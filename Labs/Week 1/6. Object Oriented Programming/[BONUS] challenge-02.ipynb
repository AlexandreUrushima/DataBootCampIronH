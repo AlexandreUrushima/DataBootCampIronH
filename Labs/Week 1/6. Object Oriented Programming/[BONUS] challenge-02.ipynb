{
 "cells": [
  {
   "cell_type": "markdown",
   "metadata": {
    "colab_type": "text",
    "id": "IGVndfDXTYvF"
   },
   "source": [
    "# Lab - Object Oriented Programming"
   ]
  },
  {
   "cell_type": "code",
   "execution_count": 1,
   "metadata": {
    "colab": {},
    "colab_type": "code",
    "id": "eFUM14nhTYvJ"
   },
   "outputs": [],
   "source": [
    "import pandas as pd\n",
    "import numpy as np"
   ]
  },
  {
   "cell_type": "markdown",
   "metadata": {
    "colab_type": "text",
    "id": "VAdTxKlPTYvP"
   },
   "source": [
    "# Challenge 2"
   ]
  },
  {
   "cell_type": "markdown",
   "metadata": {
    "colab_type": "text",
    "id": "r1ytbMg1TYvR"
   },
   "source": [
    "In order to understand the benefits of simple object-oriented programming, we have to build up our classes from the beginning. "
   ]
  },
  {
   "cell_type": "markdown",
   "metadata": {
    "colab_type": "text",
    "id": "X0QMBMXqTYvS"
   },
   "source": [
    "You'll use the following dataframe generator to test some things. Try to understand what the following function does."
   ]
  },
  {
   "cell_type": "code",
   "execution_count": 2,
   "metadata": {
    "colab": {},
    "colab_type": "code",
    "id": "X45Itv4vTYvU"
   },
   "outputs": [],
   "source": [
    "chars = ['a', 'b', 'c','d', 'e', 'f', ' ', 'á','é','ó']\n",
    "\n",
    "def create_weird_dataframe(size=10):\n",
    "    def create_weird_colnames(size=size):\n",
    "        probs = [.2,.2,.15,.1,.1,.1,.05,.05,.025,.025]\n",
    "\n",
    "        return [''.join(\n",
    "            [(char.upper() if np.random.random() < 0.2 else char) \n",
    "                     for char in np.random.choice(chars,size=12, p=probs)]) for i in range(size)]\n",
    "    \n",
    "    data = np.random.random(size=(size,size))\n",
    "    colnames = create_weird_colnames(size)\n",
    "    return pd.DataFrame(data=data, columns=colnames)"
   ]
  },
  {
   "cell_type": "markdown",
   "metadata": {
    "colab_type": "text",
    "id": "u2mUOpnbTYvY"
   },
   "source": [
    "Test the results of running that function below. Run it several times"
   ]
  },
  {
   "cell_type": "code",
   "execution_count": 3,
   "metadata": {
    "colab": {},
    "colab_type": "code",
    "id": "sN4YC6L2TYvZ"
   },
   "outputs": [
    {
     "data": {
      "text/html": [
       "<div>\n",
       "<style scoped>\n",
       "    .dataframe tbody tr th:only-of-type {\n",
       "        vertical-align: middle;\n",
       "    }\n",
       "\n",
       "    .dataframe tbody tr th {\n",
       "        vertical-align: top;\n",
       "    }\n",
       "\n",
       "    .dataframe thead th {\n",
       "        text-align: right;\n",
       "    }\n",
       "</style>\n",
       "<table border=\"1\" class=\"dataframe\">\n",
       "  <thead>\n",
       "    <tr style=\"text-align: right;\">\n",
       "      <th></th>\n",
       "      <th>cbdóBcbdefeb</th>\n",
       "      <th>eddaaAac ecb</th>\n",
       "      <th>fefabcabdábá</th>\n",
       "      <th>fbffddbaebcÓ</th>\n",
       "      <th>dbEaccbaFEbC</th>\n",
       "      <th>ecfa  febbaé</th>\n",
       "      <th>écedbcéfbcbB</th>\n",
       "      <th>EaeDbbaáabce</th>\n",
       "      <th>cfeCbéEbfáaa</th>\n",
       "      <th>bfbcadfbD ba</th>\n",
       "    </tr>\n",
       "  </thead>\n",
       "  <tbody>\n",
       "    <tr>\n",
       "      <td>0</td>\n",
       "      <td>0.352372</td>\n",
       "      <td>0.534709</td>\n",
       "      <td>0.860366</td>\n",
       "      <td>0.719924</td>\n",
       "      <td>0.893305</td>\n",
       "      <td>0.492969</td>\n",
       "      <td>0.251366</td>\n",
       "      <td>0.960464</td>\n",
       "      <td>0.364398</td>\n",
       "      <td>0.908901</td>\n",
       "    </tr>\n",
       "    <tr>\n",
       "      <td>1</td>\n",
       "      <td>0.678804</td>\n",
       "      <td>0.407852</td>\n",
       "      <td>0.695128</td>\n",
       "      <td>0.414952</td>\n",
       "      <td>0.822755</td>\n",
       "      <td>0.144120</td>\n",
       "      <td>0.687777</td>\n",
       "      <td>0.937137</td>\n",
       "      <td>0.610042</td>\n",
       "      <td>0.024718</td>\n",
       "    </tr>\n",
       "    <tr>\n",
       "      <td>2</td>\n",
       "      <td>0.446764</td>\n",
       "      <td>0.518383</td>\n",
       "      <td>0.191608</td>\n",
       "      <td>0.994585</td>\n",
       "      <td>0.600898</td>\n",
       "      <td>0.519793</td>\n",
       "      <td>0.014198</td>\n",
       "      <td>0.952513</td>\n",
       "      <td>0.808989</td>\n",
       "      <td>0.937585</td>\n",
       "    </tr>\n",
       "    <tr>\n",
       "      <td>3</td>\n",
       "      <td>0.540582</td>\n",
       "      <td>0.167976</td>\n",
       "      <td>0.449926</td>\n",
       "      <td>0.479145</td>\n",
       "      <td>0.033067</td>\n",
       "      <td>0.216543</td>\n",
       "      <td>0.057732</td>\n",
       "      <td>0.938990</td>\n",
       "      <td>0.587260</td>\n",
       "      <td>0.437107</td>\n",
       "    </tr>\n",
       "    <tr>\n",
       "      <td>4</td>\n",
       "      <td>0.028508</td>\n",
       "      <td>0.675281</td>\n",
       "      <td>0.739379</td>\n",
       "      <td>0.400424</td>\n",
       "      <td>0.546367</td>\n",
       "      <td>0.955866</td>\n",
       "      <td>0.137205</td>\n",
       "      <td>0.378742</td>\n",
       "      <td>0.081893</td>\n",
       "      <td>0.636823</td>\n",
       "    </tr>\n",
       "  </tbody>\n",
       "</table>\n",
       "</div>"
      ],
      "text/plain": [
       "   cbdóBcbdefeb  eddaaAac ecb  fefabcabdábá  fbffddbaebcÓ  dbEaccbaFEbC  \\\n",
       "0      0.352372      0.534709      0.860366      0.719924      0.893305   \n",
       "1      0.678804      0.407852      0.695128      0.414952      0.822755   \n",
       "2      0.446764      0.518383      0.191608      0.994585      0.600898   \n",
       "3      0.540582      0.167976      0.449926      0.479145      0.033067   \n",
       "4      0.028508      0.675281      0.739379      0.400424      0.546367   \n",
       "\n",
       "   ecfa  febbaé  écedbcéfbcbB  EaeDbbaáabce  cfeCbéEbfáaa  bfbcadfbD ba  \n",
       "0      0.492969      0.251366      0.960464      0.364398      0.908901  \n",
       "1      0.144120      0.687777      0.937137      0.610042      0.024718  \n",
       "2      0.519793      0.014198      0.952513      0.808989      0.937585  \n",
       "3      0.216543      0.057732      0.938990      0.587260      0.437107  \n",
       "4      0.955866      0.137205      0.378742      0.081893      0.636823  "
      ]
     },
     "execution_count": 3,
     "metadata": {},
     "output_type": "execute_result"
    }
   ],
   "source": [
    "df = create_weird_dataframe()\n",
    "df.head()"
   ]
  },
  {
   "cell_type": "markdown",
   "metadata": {
    "colab_type": "text",
    "id": "uk4PrJFfTYvd"
   },
   "source": [
    "## Correcting the column names\n",
    "\n",
    "We'll create a function that rename the weird column names. The idea is to, later, extend that idea to our own brand new dataframe class."
   ]
  },
  {
   "cell_type": "markdown",
   "metadata": {
    "colab_type": "text",
    "id": "n7Zt4bABTYvf"
   },
   "source": [
    "### let's start simple: get the column names of the dataframe.\n",
    "\n",
    "Store it in a variable called `col_names`\n"
   ]
  },
  {
   "cell_type": "code",
   "execution_count": 29,
   "metadata": {
    "colab": {},
    "colab_type": "code",
    "id": "ZPR1hdCITYvg"
   },
   "outputs": [
    {
     "data": {
      "text/plain": [
       "['cbdóBcbdefeb',\n",
       " 'eddaaAac ecb',\n",
       " 'fefabcabdábá',\n",
       " 'fbffddbaebcÓ',\n",
       " 'dbEaccbaFEbC',\n",
       " 'ecfa  febbaé',\n",
       " 'écedbcéfbcbB',\n",
       " 'EaeDbbaáabce',\n",
       " 'cfeCbéEbfáaa',\n",
       " 'bfbcadfbD ba']"
      ]
     },
     "execution_count": 29,
     "metadata": {},
     "output_type": "execute_result"
    }
   ],
   "source": [
    "col_names = list(df.columns.values)\n",
    "col_names"
   ]
  },
  {
   "cell_type": "markdown",
   "metadata": {
    "colab_type": "text",
    "id": "CIkkr475TYvk"
   },
   "source": [
    "### Let's iterate through this columns and transform them into lower-case column names\n",
    "\n",
    "Create a list comprehension to do that if possible. Store it in a variable called `lower_colnames`"
   ]
  },
  {
   "cell_type": "code",
   "execution_count": 32,
   "metadata": {
    "colab": {},
    "colab_type": "code",
    "id": "6TXYfFx5TYvl"
   },
   "outputs": [
    {
     "data": {
      "text/plain": [
       "['cbdóbcbdefeb',\n",
       " 'eddaaaac ecb',\n",
       " 'fefabcabdábá',\n",
       " 'fbffddbaebcó',\n",
       " 'dbeaccbafebc',\n",
       " 'ecfa  febbaé',\n",
       " 'écedbcéfbcbb',\n",
       " 'eaedbbaáabce',\n",
       " 'cfecbéebfáaa',\n",
       " 'bfbcadfbd ba']"
      ]
     },
     "execution_count": 32,
     "metadata": {},
     "output_type": "execute_result"
    }
   ],
   "source": [
    "lower_colnames = [i.lower() for i in col_names]\n",
    "lower_colnames"
   ]
  },
  {
   "cell_type": "markdown",
   "metadata": {
    "colab_type": "text",
    "id": "qlTchgNbTYvp"
   },
   "source": [
    "### Let's remove the spaces of these column names!\n",
    "\n",
    "Replace each column name space ` ` for an underline `_`. Again, try to use a list comprehension to do that. \n",
    "For this first task use `.replace(' ','')` method to do that."
   ]
  },
  {
   "cell_type": "code",
   "execution_count": 34,
   "metadata": {
    "colab": {},
    "colab_type": "code",
    "id": "y0JFfKgFTYvq"
   },
   "outputs": [
    {
     "data": {
      "text/plain": [
       "['cbdóbcbdefeb',\n",
       " 'eddaaaacecb',\n",
       " 'fefabcabdábá',\n",
       " 'fbffddbaebcó',\n",
       " 'dbeaccbafebc',\n",
       " 'ecfafebbaé',\n",
       " 'écedbcéfbcbb',\n",
       " 'eaedbbaáabce',\n",
       " 'cfecbéebfáaa',\n",
       " 'bfbcadfbdba']"
      ]
     },
     "execution_count": 34,
     "metadata": {},
     "output_type": "execute_result"
    }
   ],
   "source": [
    "lower_colnames = [i.replace(' ','_') for i in lower_colnames]\n",
    "lower_colnames"
   ]
  },
  {
   "cell_type": "markdown",
   "metadata": {
    "colab_type": "text",
    "id": "TCj5NklYTYvu"
   },
   "source": [
    "### Create a function that groups the results obtained above and return the lower case underlined names as a list\n",
    "\n",
    "Name the function `normalize_cols`. This function should receive a dataframe, get the column names of a it and return the treated list of column names."
   ]
  },
  {
   "cell_type": "code",
   "execution_count": 41,
   "metadata": {
    "colab": {},
    "colab_type": "code",
    "id": "aqYwg4EJTYvv"
   },
   "outputs": [],
   "source": [
    "def normalize_cols(df):\n",
    "    col_names = list(df.columns.values)\n",
    "    lower_colnames = [i.lower() for i in col_names]\n",
    "    lower_colnames = [i.replace(' ','_') for i in lower_colnames]\n",
    "    return lower_colnames"
   ]
  },
  {
   "cell_type": "markdown",
   "metadata": {
    "colab_type": "text",
    "id": "YMpWYJFwTYvz"
   },
   "source": [
    "### Test your results\n",
    "\n",
    "Use the following line of code to test your results. Run it several times to see some behaviors."
   ]
  },
  {
   "cell_type": "code",
   "execution_count": 46,
   "metadata": {
    "colab": {},
    "colab_type": "code",
    "id": "fbXmMMd3TYv0"
   },
   "outputs": [
    {
     "data": {
      "text/plain": [
       "['_deacb_fddef',\n",
       " 'bcccácbb_cfa',\n",
       " 'eceefbfcaaáb',\n",
       " 'acbeeacebbcé',\n",
       " '_becfaceéóee',\n",
       " 'ebbcbabdaaca',\n",
       " 'caecabedbabc',\n",
       " 'bb_afbábófac',\n",
       " 'dfafabcabcab',\n",
       " '_ácfccdaódea']"
      ]
     },
     "execution_count": 46,
     "metadata": {},
     "output_type": "execute_result"
    }
   ],
   "source": [
    "normalize_cols(create_weird_dataframe())"
   ]
  },
  {
   "cell_type": "markdown",
   "metadata": {
    "colab_type": "text",
    "id": "LWMc9bikTYv4"
   },
   "source": [
    "### hmmm, we've made a mistake!\n",
    "\n",
    "We've commited several mistakes by doing this. Have observed any bugs associated with our results?"
   ]
  },
  {
   "cell_type": "markdown",
   "metadata": {
    "colab_type": "text",
    "id": "fGnyUzGATYv5"
   },
   "source": [
    "In order for us to see some problems in our results, we have to look for edge cases. \n",
    "\n",
    "For example: \n",
    "\n",
    "**Problem #1:** what if there are 2 or more following spaces? We want it to replace the spaces by several underlines or condense them into one?\n",
    "\n",
    "**Problem #2:** what if there are spaces at the beginning? Should we substitute them by underline or drop them?"
   ]
  },
  {
   "cell_type": "markdown",
   "metadata": {
    "colab_type": "text",
    "id": "BkJguuBITYv6"
   },
   "source": [
    "Let's correct each problem. Starting by problem 2."
   ]
  },
  {
   "cell_type": "markdown",
   "metadata": {
    "colab_type": "text",
    "id": "ikvacQQ3TYv7"
   },
   "source": [
    "## Correcting our function\n",
    "\n",
    "Instead of substituting the spaces at first place, let's remove the trailing and leading spaces!\n",
    "\n",
    "Recreate the `normalize_cols` with the solution to `Problem 2`.\n",
    "\n",
    "*Hint: Copy and paste the last `normalize_cols` function to change it.*"
   ]
  },
  {
   "cell_type": "code",
   "execution_count": 58,
   "metadata": {
    "colab": {},
    "colab_type": "code",
    "id": "u_kX4HS1TYv8"
   },
   "outputs": [],
   "source": [
    "import re\n",
    "def normalize_cols(df):\n",
    "    col_names = list(df.columns.values)\n",
    "    lower_colnames = [i.lower() for i in col_names]\n",
    "    lower_colnames = [i.replace(' ','_') for i in lower_colnames]\n",
    "    lower_colnames = [i.replace('  ','__') for i in lower_colnames]\n",
    "    lower_colnames = [i.replace('   ','___') for i in lower_colnames]\n",
    "    return lower_colnames"
   ]
  },
  {
   "cell_type": "markdown",
   "metadata": {
    "colab_type": "text",
    "id": "MXm2-PEbTYwA"
   },
   "source": [
    "### Test your results again.\n",
    "\n",
    "At least, for now, you should not have any trailing nor leading underlines."
   ]
  },
  {
   "cell_type": "code",
   "execution_count": 70,
   "metadata": {
    "colab": {},
    "colab_type": "code",
    "id": "Bm9ifu5QTYwB"
   },
   "outputs": [
    {
     "data": {
      "text/plain": [
       "['óbacadd_e_cf',\n",
       " 'fcaeeccaccb_',\n",
       " 'eebbdacbcaab',\n",
       " 'áebbaáfebbfá',\n",
       " 'bóbbca_aaaéa',\n",
       " '_b_aáébcbcae',\n",
       " 'aaáaffefbacd',\n",
       " 'bcaácáabab_c',\n",
       " 'aebbcócbaaba',\n",
       " 'eadeffbb_cb_']"
      ]
     },
     "execution_count": 70,
     "metadata": {},
     "output_type": "execute_result"
    }
   ],
   "source": [
    "normalize_cols(create_weird_dataframe())"
   ]
  },
  {
   "cell_type": "markdown",
   "metadata": {
    "colab_type": "text",
    "id": "zNR5w4cWTYwE"
   },
   "source": [
    "### Correcting problem 1"
   ]
  },
  {
   "cell_type": "markdown",
   "metadata": {
    "colab_type": "text",
    "id": "vSJu3qCCTYwG"
   },
   "source": [
    "To correct problem 1, instead of using `.replace()` string method, we want to use a regular expression. Use the module `re` to substitute the pattern of `1 or more spaces` by 1 underline `_`.\n",
    "\n",
    "Test your solution on the variable below:"
   ]
  },
  {
   "cell_type": "code",
   "execution_count": 77,
   "metadata": {
    "colab": {},
    "colab_type": "code",
    "id": "8dm4rS5mTYwH"
   },
   "outputs": [
    {
     "data": {
      "text/plain": [
       "'these spaces_should all be one underline'"
      ]
     },
     "execution_count": 77,
     "metadata": {},
     "output_type": "execute_result"
    }
   ],
   "source": [
    "import re \n",
    "text = 'these spaces      should all be one underline'\n",
    "re.sub('  +', '_', text)\n"
   ]
  },
  {
   "cell_type": "code",
   "execution_count": 78,
   "metadata": {
    "colab": {},
    "colab_type": "code",
    "id": "RP-cz9kKTYwK"
   },
   "outputs": [],
   "source": []
  },
  {
   "cell_type": "markdown",
   "metadata": {
    "colab_type": "text",
    "id": "iqffTpd3TYwU"
   },
   "source": [
    "### Now correct your `normalize_cols` function\n",
    "\n",
    "*Hint: Copy and paste the last `normalize_cols` function to change it.*"
   ]
  },
  {
   "cell_type": "code",
   "execution_count": 102,
   "metadata": {
    "colab": {},
    "colab_type": "code",
    "id": "7SxhpuOCTYwV"
   },
   "outputs": [],
   "source": [
    "def normalize_cols(df):\n",
    "    col_names = list(df.columns.values)\n",
    "    lower_colnames = [i.lower() for i in col_names]\n",
    "    lower_colnames = [re.sub(' +', '_', i) for i in lower_colnames]\n",
    "    return lower_colnames"
   ]
  },
  {
   "cell_type": "markdown",
   "metadata": {
    "colab_type": "text",
    "id": "mn0UwlZATYwX"
   },
   "source": [
    "### Again, test your results.\n",
    "\n",
    "Now, sometimes some column names should have smaller sizes (because you are removing consecutive spaces)"
   ]
  },
  {
   "cell_type": "code",
   "execution_count": 104,
   "metadata": {
    "colab": {},
    "colab_type": "code",
    "id": "LzHIKAT4TYwZ"
   },
   "outputs": [
    {
     "data": {
      "text/plain": [
       "['fabcfá_cdbab',\n",
       " 'dcabcdcabceé',\n",
       " 'acáfbcbc_dca',\n",
       " '_babfdbbeaeb',\n",
       " 'ácabbcbcac_d',\n",
       " 'bbaaeacaaccd',\n",
       " 'bédccccdc_fc',\n",
       " 'ecfeaabbcfdd',\n",
       " 'ecffbfádbacc',\n",
       " 'eacábffa_afa']"
      ]
     },
     "execution_count": 104,
     "metadata": {},
     "output_type": "execute_result"
    }
   ],
   "source": [
    "normalize_cols(create_weird_dataframe())"
   ]
  },
  {
   "cell_type": "markdown",
   "metadata": {
    "colab_type": "text",
    "id": "bs7KvyTwTYwc"
   },
   "source": [
    "## Last step: remove accents"
   ]
  },
  {
   "cell_type": "markdown",
   "metadata": {
    "colab_type": "text",
    "id": "rhQLRfoYTYwd"
   },
   "source": [
    "The last step consists in removing accents from the strings.\n",
    "\n",
    "Import the package `unidecode` to use its module also called `unidecode` to remove accents. Test on the word below."
   ]
  },
  {
   "cell_type": "code",
   "execution_count": 110,
   "metadata": {
    "colab": {},
    "colab_type": "code",
    "id": "osrv7brdTYwe"
   },
   "outputs": [
    {
     "data": {
      "text/plain": [
       "'aeouaorowo'"
      ]
     },
     "execution_count": 110,
     "metadata": {},
     "output_type": "execute_result"
    }
   ],
   "source": [
    "import unidecode\n",
    "text = 'aéóúaorowó'\n",
    "unidecode.unidecode(text)"
   ]
  },
  {
   "cell_type": "code",
   "execution_count": null,
   "metadata": {
    "colab": {},
    "colab_type": "code",
    "id": "4fgbbUbZTYwg"
   },
   "outputs": [],
   "source": []
  },
  {
   "cell_type": "markdown",
   "metadata": {
    "colab_type": "text",
    "id": "tCoX4ZYLTYwj"
   },
   "source": [
    "### Now remove the accents for each column name in your `normalized_cols` function.\n",
    "\n",
    "*Hint: Copy and paste the last `normalize_cols` function to change it.*"
   ]
  },
  {
   "cell_type": "code",
   "execution_count": 113,
   "metadata": {
    "colab": {},
    "colab_type": "code",
    "id": "3ZW9No0uTYwk"
   },
   "outputs": [],
   "source": [
    "def normalize_cols(df):\n",
    "    col_names = list(df.columns.values)\n",
    "    lower_colnames = [i.lower() for i in col_names]\n",
    "    lower_colnames = [re.sub(' +', '_', i) for i in lower_colnames]\n",
    "    lower_colnames = [unidecode.unidecode(item) for item in lower_colnames]\n",
    "    return lower_colnames"
   ]
  },
  {
   "cell_type": "markdown",
   "metadata": {
    "colab_type": "text",
    "id": "MTgNfgeYTYwm"
   },
   "source": [
    "### Test your results"
   ]
  },
  {
   "cell_type": "code",
   "execution_count": 114,
   "metadata": {
    "colab": {},
    "colab_type": "code",
    "id": "RxDiO0PzTYwn"
   },
   "outputs": [
    {
     "data": {
      "text/plain": [
       "['daadbe_ccbfc',\n",
       " 'caecfb_fefbe',\n",
       " 'cab_baaaffba',\n",
       " 'daaaaeabbeef',\n",
       " 'caa_ebdeeeaa',\n",
       " 'afeaffaad_co',\n",
       " 'a_efacbcadce',\n",
       " 'bdbabcdeec_b',\n",
       " 'ecaab_bbcaab',\n",
       " 'cabfdbabddfe']"
      ]
     },
     "execution_count": 114,
     "metadata": {},
     "output_type": "execute_result"
    }
   ],
   "source": [
    "normalize_cols(create_weird_dataframe())"
   ]
  },
  {
   "cell_type": "markdown",
   "metadata": {
    "colab_type": "text",
    "id": "VQ9C0CjkTYwq"
   },
   "source": [
    "## Good job. \n",
    "\n",
    "Right now you have a function that receives a dataframe and returns its columns names with a good formatting."
   ]
  },
  {
   "cell_type": "markdown",
   "metadata": {
    "colab_type": "text",
    "id": "5swtawYcTYwq"
   },
   "source": [
    "# Creating our own dataframe."
   ]
  },
  {
   "cell_type": "code",
   "execution_count": 115,
   "metadata": {
    "colab": {},
    "colab_type": "code",
    "id": "69irk1odTYwr"
   },
   "outputs": [],
   "source": [
    "from pandas import DataFrame"
   ]
  },
  {
   "cell_type": "markdown",
   "metadata": {
    "colab_type": "text",
    "id": "3vUf_BFSTYwt"
   },
   "source": [
    "A dataframe is just a simple class. It contains its own attributes and methods. \n",
    "\n",
    "When you create a pd.DataFrame() you are just instantiating the DataFrame class as an object that you can store in a variable. From this point onwards, you have access to all DataFrame class attributes (`.columns` for example) and methods (`.isna()` for example). We've been using those since always! "
   ]
  },
  {
   "cell_type": "markdown",
   "metadata": {
    "colab_type": "text",
    "id": "A5I8dflETYwu"
   },
   "source": [
    "If we wish, we could create our own class inheriting everything from a DataFrame class."
   ]
  },
  {
   "cell_type": "code",
   "execution_count": 121,
   "metadata": {
    "colab": {},
    "colab_type": "code",
    "id": "xZUmnuzzTYwv"
   },
   "outputs": [],
   "source": [
    "class myDataFrame(DataFrame):\n",
    "    \n",
    "    def normalize_cols(self):\n",
    "        col_names = list(self.columns.values)\n",
    "        lower_colnames = [i.lower() for i in col_names]\n",
    "        lower_colnames = [re.sub(' +', '_', i) for i in lower_colnames]\n",
    "        lower_colnames = [unidecode.unidecode(item) for item in lower_colnames]\n",
    "        return lower_colnames"
   ]
  },
  {
   "cell_type": "markdown",
   "metadata": {
    "colab_type": "text",
    "id": "mPSyMDn4TYwy"
   },
   "source": [
    "Instead of just creating myDataFrame, put your function inside your new inherited class, that is, transform `normalize_cols` into a method of your own DataFrame.\n",
    "\n",
    "Remember you'll have to give self as the first argument of the `normalize_cols`. So you could replace everything you once called `dataframe` inside your `normalize_cols` by `self`. \n",
    "\n",
    "At the end, return the list of the correct names."
   ]
  },
  {
   "cell_type": "code",
   "execution_count": null,
   "metadata": {
    "colab": {},
    "colab_type": "code",
    "id": "UD3uk6bkTYwz"
   },
   "outputs": [],
   "source": []
  },
  {
   "cell_type": "markdown",
   "metadata": {
    "colab_type": "text",
    "id": "lCKiKMavTYw1"
   },
   "source": [
    "Test your results."
   ]
  },
  {
   "cell_type": "code",
   "execution_count": 122,
   "metadata": {
    "colab": {},
    "colab_type": "code",
    "id": "EaVQNJBbTYw2"
   },
   "outputs": [
    {
     "data": {
      "text/html": [
       "<div>\n",
       "<style scoped>\n",
       "    .dataframe tbody tr th:only-of-type {\n",
       "        vertical-align: middle;\n",
       "    }\n",
       "\n",
       "    .dataframe tbody tr th {\n",
       "        vertical-align: top;\n",
       "    }\n",
       "\n",
       "    .dataframe thead th {\n",
       "        text-align: right;\n",
       "    }\n",
       "</style>\n",
       "<table border=\"1\" class=\"dataframe\">\n",
       "  <thead>\n",
       "    <tr style=\"text-align: right;\">\n",
       "      <th></th>\n",
       "      <th>EfdafbbDacdf</th>\n",
       "      <th>aA adbbAbCa</th>\n",
       "      <th>ábAbfaCedefa</th>\n",
       "      <th>ffbbbf aBA e</th>\n",
       "      <th>baeecbefabef</th>\n",
       "      <th>eabfÉdc aacá</th>\n",
       "      <th>dAFddbcdcáeF</th>\n",
       "      <th>eAabbaCadBac</th>\n",
       "      <th>abf  ecaaacb</th>\n",
       "      <th>fbEFfceabcaa</th>\n",
       "    </tr>\n",
       "  </thead>\n",
       "  <tbody>\n",
       "    <tr>\n",
       "      <td>0</td>\n",
       "      <td>0.302052</td>\n",
       "      <td>0.626001</td>\n",
       "      <td>0.145675</td>\n",
       "      <td>0.692239</td>\n",
       "      <td>0.160542</td>\n",
       "      <td>0.203504</td>\n",
       "      <td>0.902431</td>\n",
       "      <td>0.711008</td>\n",
       "      <td>0.595272</td>\n",
       "      <td>0.227205</td>\n",
       "    </tr>\n",
       "    <tr>\n",
       "      <td>1</td>\n",
       "      <td>0.795956</td>\n",
       "      <td>0.614956</td>\n",
       "      <td>0.129188</td>\n",
       "      <td>0.739881</td>\n",
       "      <td>0.558401</td>\n",
       "      <td>0.192782</td>\n",
       "      <td>0.720157</td>\n",
       "      <td>0.692358</td>\n",
       "      <td>0.219730</td>\n",
       "      <td>0.680027</td>\n",
       "    </tr>\n",
       "    <tr>\n",
       "      <td>2</td>\n",
       "      <td>0.481008</td>\n",
       "      <td>0.318357</td>\n",
       "      <td>0.307430</td>\n",
       "      <td>0.082300</td>\n",
       "      <td>0.918824</td>\n",
       "      <td>0.407379</td>\n",
       "      <td>0.806810</td>\n",
       "      <td>0.018792</td>\n",
       "      <td>0.235044</td>\n",
       "      <td>0.471815</td>\n",
       "    </tr>\n",
       "    <tr>\n",
       "      <td>3</td>\n",
       "      <td>0.674771</td>\n",
       "      <td>0.763784</td>\n",
       "      <td>0.231453</td>\n",
       "      <td>0.988509</td>\n",
       "      <td>0.344865</td>\n",
       "      <td>0.375010</td>\n",
       "      <td>0.822737</td>\n",
       "      <td>0.475793</td>\n",
       "      <td>0.683487</td>\n",
       "      <td>0.998743</td>\n",
       "    </tr>\n",
       "    <tr>\n",
       "      <td>4</td>\n",
       "      <td>0.074759</td>\n",
       "      <td>0.280961</td>\n",
       "      <td>0.383179</td>\n",
       "      <td>0.693349</td>\n",
       "      <td>0.563809</td>\n",
       "      <td>0.530866</td>\n",
       "      <td>0.061957</td>\n",
       "      <td>0.408694</td>\n",
       "      <td>0.714971</td>\n",
       "      <td>0.692149</td>\n",
       "    </tr>\n",
       "    <tr>\n",
       "      <td>5</td>\n",
       "      <td>0.829284</td>\n",
       "      <td>0.483112</td>\n",
       "      <td>0.929271</td>\n",
       "      <td>0.533942</td>\n",
       "      <td>0.921348</td>\n",
       "      <td>0.885003</td>\n",
       "      <td>0.757829</td>\n",
       "      <td>0.817496</td>\n",
       "      <td>0.538351</td>\n",
       "      <td>0.532566</td>\n",
       "    </tr>\n",
       "    <tr>\n",
       "      <td>6</td>\n",
       "      <td>0.550604</td>\n",
       "      <td>0.719962</td>\n",
       "      <td>0.710177</td>\n",
       "      <td>0.217082</td>\n",
       "      <td>0.311610</td>\n",
       "      <td>0.160030</td>\n",
       "      <td>0.035216</td>\n",
       "      <td>0.637158</td>\n",
       "      <td>0.206443</td>\n",
       "      <td>0.771673</td>\n",
       "    </tr>\n",
       "    <tr>\n",
       "      <td>7</td>\n",
       "      <td>0.691788</td>\n",
       "      <td>0.819841</td>\n",
       "      <td>0.836053</td>\n",
       "      <td>0.170306</td>\n",
       "      <td>0.815223</td>\n",
       "      <td>0.555747</td>\n",
       "      <td>0.418412</td>\n",
       "      <td>0.274203</td>\n",
       "      <td>0.295492</td>\n",
       "      <td>0.852877</td>\n",
       "    </tr>\n",
       "    <tr>\n",
       "      <td>8</td>\n",
       "      <td>0.671565</td>\n",
       "      <td>0.004812</td>\n",
       "      <td>0.549879</td>\n",
       "      <td>0.540376</td>\n",
       "      <td>0.731916</td>\n",
       "      <td>0.262274</td>\n",
       "      <td>0.335402</td>\n",
       "      <td>0.108107</td>\n",
       "      <td>0.086270</td>\n",
       "      <td>0.983205</td>\n",
       "    </tr>\n",
       "    <tr>\n",
       "      <td>9</td>\n",
       "      <td>0.184733</td>\n",
       "      <td>0.468095</td>\n",
       "      <td>0.082572</td>\n",
       "      <td>0.343074</td>\n",
       "      <td>0.918566</td>\n",
       "      <td>0.691098</td>\n",
       "      <td>0.121320</td>\n",
       "      <td>0.046035</td>\n",
       "      <td>0.851575</td>\n",
       "      <td>0.765151</td>\n",
       "    </tr>\n",
       "  </tbody>\n",
       "</table>\n",
       "</div>"
      ],
      "text/plain": [
       "   EfdafbbDacdf  aA adbbAbCa   ábAbfaCedefa  ffbbbf aBA e  baeecbefabef  \\\n",
       "0      0.302052      0.626001      0.145675      0.692239      0.160542   \n",
       "1      0.795956      0.614956      0.129188      0.739881      0.558401   \n",
       "2      0.481008      0.318357      0.307430      0.082300      0.918824   \n",
       "3      0.674771      0.763784      0.231453      0.988509      0.344865   \n",
       "4      0.074759      0.280961      0.383179      0.693349      0.563809   \n",
       "5      0.829284      0.483112      0.929271      0.533942      0.921348   \n",
       "6      0.550604      0.719962      0.710177      0.217082      0.311610   \n",
       "7      0.691788      0.819841      0.836053      0.170306      0.815223   \n",
       "8      0.671565      0.004812      0.549879      0.540376      0.731916   \n",
       "9      0.184733      0.468095      0.082572      0.343074      0.918566   \n",
       "\n",
       "   eabfÉdc aacá  dAFddbcdcáeF  eAabbaCadBac  abf  ecaaacb  fbEFfceabcaa  \n",
       "0      0.203504      0.902431      0.711008      0.595272      0.227205  \n",
       "1      0.192782      0.720157      0.692358      0.219730      0.680027  \n",
       "2      0.407379      0.806810      0.018792      0.235044      0.471815  \n",
       "3      0.375010      0.822737      0.475793      0.683487      0.998743  \n",
       "4      0.530866      0.061957      0.408694      0.714971      0.692149  \n",
       "5      0.885003      0.757829      0.817496      0.538351      0.532566  \n",
       "6      0.160030      0.035216      0.637158      0.206443      0.771673  \n",
       "7      0.555747      0.418412      0.274203      0.295492      0.852877  \n",
       "8      0.262274      0.335402      0.108107      0.086270      0.983205  \n",
       "9      0.691098      0.121320      0.046035      0.851575      0.765151  "
      ]
     },
     "execution_count": 122,
     "metadata": {},
     "output_type": "execute_result"
    }
   ],
   "source": [
    "df = myDataFrame(create_weird_dataframe())\n",
    "df.normalize_cols()"
   ]
  },
  {
   "cell_type": "markdown",
   "metadata": {
    "colab_type": "text",
    "id": "I0IlScuLTYw5"
   },
   "source": [
    "## Understanding even more the `self` argument"
   ]
  },
  {
   "cell_type": "markdown",
   "metadata": {
    "colab_type": "text",
    "id": "UF5gjA1qTYw6"
   },
   "source": [
    "Instead of returning a list containing the correct columns, you should now assign the correct columns to the `self.columns` - this will effectively replace the values of your object by the correct columns.\n",
    "\n",
    "\n",
    "Now change your method to return the dataframe itself. That is, return the `self` argument this time and see the results! \n",
    "\n",
    "```python\n",
    "class myDataFrame(DataFrame):\n",
    "    def normalize_cos(self):\n",
    "        ...\n",
    "        return self\n",
    "```"
   ]
  },
  {
   "cell_type": "code",
   "execution_count": 124,
   "metadata": {
    "colab": {},
    "colab_type": "code",
    "id": "dTtylbdGTYw7"
   },
   "outputs": [
    {
     "data": {
      "text/html": [
       "<div>\n",
       "<style scoped>\n",
       "    .dataframe tbody tr th:only-of-type {\n",
       "        vertical-align: middle;\n",
       "    }\n",
       "\n",
       "    .dataframe tbody tr th {\n",
       "        vertical-align: top;\n",
       "    }\n",
       "\n",
       "    .dataframe thead th {\n",
       "        text-align: right;\n",
       "    }\n",
       "</style>\n",
       "<table border=\"1\" class=\"dataframe\">\n",
       "  <thead>\n",
       "    <tr style=\"text-align: right;\">\n",
       "      <th></th>\n",
       "      <th>cabdéeacEaDb</th>\n",
       "      <th>CbeaceabaEáa</th>\n",
       "      <th>bccbebDáeeda</th>\n",
       "      <th>Ab BbcAdaafá</th>\n",
       "      <th>ébbfcácóabc</th>\n",
       "      <th>feAbábbfaaÁ</th>\n",
       "      <th>bbeabCcdfeÓB</th>\n",
       "      <th>fc beaóCbEaB</th>\n",
       "      <th>bBbábdaCábá</th>\n",
       "      <th>fácbAFeéadáB</th>\n",
       "    </tr>\n",
       "  </thead>\n",
       "  <tbody>\n",
       "    <tr>\n",
       "      <td>0</td>\n",
       "      <td>0.540594</td>\n",
       "      <td>0.912558</td>\n",
       "      <td>0.641143</td>\n",
       "      <td>0.985325</td>\n",
       "      <td>0.837870</td>\n",
       "      <td>0.281859</td>\n",
       "      <td>0.122952</td>\n",
       "      <td>0.377492</td>\n",
       "      <td>0.450192</td>\n",
       "      <td>0.273973</td>\n",
       "    </tr>\n",
       "    <tr>\n",
       "      <td>1</td>\n",
       "      <td>0.667191</td>\n",
       "      <td>0.864862</td>\n",
       "      <td>0.210599</td>\n",
       "      <td>0.059061</td>\n",
       "      <td>0.114385</td>\n",
       "      <td>0.326878</td>\n",
       "      <td>0.023888</td>\n",
       "      <td>0.677387</td>\n",
       "      <td>0.894801</td>\n",
       "      <td>0.257852</td>\n",
       "    </tr>\n",
       "    <tr>\n",
       "      <td>2</td>\n",
       "      <td>0.188684</td>\n",
       "      <td>0.415977</td>\n",
       "      <td>0.484121</td>\n",
       "      <td>0.753330</td>\n",
       "      <td>0.126253</td>\n",
       "      <td>0.633712</td>\n",
       "      <td>0.548701</td>\n",
       "      <td>0.613388</td>\n",
       "      <td>0.859704</td>\n",
       "      <td>0.125465</td>\n",
       "    </tr>\n",
       "    <tr>\n",
       "      <td>3</td>\n",
       "      <td>0.465299</td>\n",
       "      <td>0.498655</td>\n",
       "      <td>0.497737</td>\n",
       "      <td>0.446303</td>\n",
       "      <td>0.299975</td>\n",
       "      <td>0.251816</td>\n",
       "      <td>0.898933</td>\n",
       "      <td>0.630943</td>\n",
       "      <td>0.283883</td>\n",
       "      <td>0.207160</td>\n",
       "    </tr>\n",
       "    <tr>\n",
       "      <td>4</td>\n",
       "      <td>0.464651</td>\n",
       "      <td>0.743598</td>\n",
       "      <td>0.353894</td>\n",
       "      <td>0.666701</td>\n",
       "      <td>0.914405</td>\n",
       "      <td>0.605910</td>\n",
       "      <td>0.240402</td>\n",
       "      <td>0.264864</td>\n",
       "      <td>0.282141</td>\n",
       "      <td>0.000720</td>\n",
       "    </tr>\n",
       "    <tr>\n",
       "      <td>5</td>\n",
       "      <td>0.151309</td>\n",
       "      <td>0.334789</td>\n",
       "      <td>0.024970</td>\n",
       "      <td>0.159882</td>\n",
       "      <td>0.584772</td>\n",
       "      <td>0.176824</td>\n",
       "      <td>0.798321</td>\n",
       "      <td>0.577609</td>\n",
       "      <td>0.008803</td>\n",
       "      <td>0.466657</td>\n",
       "    </tr>\n",
       "    <tr>\n",
       "      <td>6</td>\n",
       "      <td>0.321930</td>\n",
       "      <td>0.662258</td>\n",
       "      <td>0.407017</td>\n",
       "      <td>0.862924</td>\n",
       "      <td>0.658297</td>\n",
       "      <td>0.140510</td>\n",
       "      <td>0.873077</td>\n",
       "      <td>0.197344</td>\n",
       "      <td>0.808984</td>\n",
       "      <td>0.745283</td>\n",
       "    </tr>\n",
       "    <tr>\n",
       "      <td>7</td>\n",
       "      <td>0.616374</td>\n",
       "      <td>0.602010</td>\n",
       "      <td>0.260498</td>\n",
       "      <td>0.231822</td>\n",
       "      <td>0.458211</td>\n",
       "      <td>0.747355</td>\n",
       "      <td>0.875508</td>\n",
       "      <td>0.172981</td>\n",
       "      <td>0.672006</td>\n",
       "      <td>0.853809</td>\n",
       "    </tr>\n",
       "    <tr>\n",
       "      <td>8</td>\n",
       "      <td>0.222419</td>\n",
       "      <td>0.417597</td>\n",
       "      <td>0.239082</td>\n",
       "      <td>0.578018</td>\n",
       "      <td>0.671947</td>\n",
       "      <td>0.429654</td>\n",
       "      <td>0.031668</td>\n",
       "      <td>0.284585</td>\n",
       "      <td>0.147079</td>\n",
       "      <td>0.320881</td>\n",
       "    </tr>\n",
       "    <tr>\n",
       "      <td>9</td>\n",
       "      <td>0.139705</td>\n",
       "      <td>0.816283</td>\n",
       "      <td>0.694352</td>\n",
       "      <td>0.984184</td>\n",
       "      <td>0.987919</td>\n",
       "      <td>0.822219</td>\n",
       "      <td>0.685773</td>\n",
       "      <td>0.804333</td>\n",
       "      <td>0.740170</td>\n",
       "      <td>0.124276</td>\n",
       "    </tr>\n",
       "  </tbody>\n",
       "</table>\n",
       "</div>"
      ],
      "text/plain": [
       "   cabdéeacEaDb  CbeaceabaEáa  bccbebDáeeda  Ab BbcAdaafá  ébbfcácóabc   \\\n",
       "0      0.540594      0.912558      0.641143      0.985325      0.837870   \n",
       "1      0.667191      0.864862      0.210599      0.059061      0.114385   \n",
       "2      0.188684      0.415977      0.484121      0.753330      0.126253   \n",
       "3      0.465299      0.498655      0.497737      0.446303      0.299975   \n",
       "4      0.464651      0.743598      0.353894      0.666701      0.914405   \n",
       "5      0.151309      0.334789      0.024970      0.159882      0.584772   \n",
       "6      0.321930      0.662258      0.407017      0.862924      0.658297   \n",
       "7      0.616374      0.602010      0.260498      0.231822      0.458211   \n",
       "8      0.222419      0.417597      0.239082      0.578018      0.671947   \n",
       "9      0.139705      0.816283      0.694352      0.984184      0.987919   \n",
       "\n",
       "    feAbábbfaaÁ  bbeabCcdfeÓB  fc beaóCbEaB  bBbábdaCábá   fácbAFeéadáB  \n",
       "0      0.281859      0.122952      0.377492      0.450192      0.273973  \n",
       "1      0.326878      0.023888      0.677387      0.894801      0.257852  \n",
       "2      0.633712      0.548701      0.613388      0.859704      0.125465  \n",
       "3      0.251816      0.898933      0.630943      0.283883      0.207160  \n",
       "4      0.605910      0.240402      0.264864      0.282141      0.000720  \n",
       "5      0.176824      0.798321      0.577609      0.008803      0.466657  \n",
       "6      0.140510      0.873077      0.197344      0.808984      0.745283  \n",
       "7      0.747355      0.875508      0.172981      0.672006      0.853809  \n",
       "8      0.429654      0.031668      0.284585      0.147079      0.320881  \n",
       "9      0.822219      0.685773      0.804333      0.740170      0.124276  "
      ]
     },
     "execution_count": 124,
     "metadata": {},
     "output_type": "execute_result"
    }
   ],
   "source": [
    "class myDataFrame(DataFrame):\n",
    "    \n",
    "    def normalize_cols(self):\n",
    "        col_names = list(self.columns.values)\n",
    "        lower_colnames = [i.lower() for i in col_names]\n",
    "        lower_colnames = [re.sub(' +', '_', i) for i in lower_colnames]\n",
    "        lower_colnames = [unidecode.unidecode(item) for item in lower_colnames]\n",
    "        return self\n",
    "    \n",
    "df = myDataFrame(create_weird_dataframe())\n",
    "df.normalize_cols()    "
   ]
  },
  {
   "cell_type": "markdown",
   "metadata": {
    "colab_type": "text",
    "id": "bh1SJi3lTYxf"
   },
   "source": [
    "## Understanding the self argument"
   ]
  },
  {
   "cell_type": "markdown",
   "metadata": {
    "colab_type": "text",
    "id": "ZnGiF0QgTYxi"
   },
   "source": [
    "Now, below the `for loop` you've created, let's create the attributes of the `Car` class. Remember the attributes you wrote down earlier? Let's put them as arguments of the `__init__(self,)` function.\n",
    "\n",
    "Remember, the first argument of the `__init__(self,)` function should always be the `self` keyword. \n",
    "\n",
    "The `self` argument represents the object itself. That is a way for you to have access to the objects own attribute. \n"
   ]
  },
  {
   "cell_type": "markdown",
   "metadata": {
    "colab_type": "text",
    "id": "EuP7N9DzTYxj"
   },
   "source": [
    "### First, let's start creating one single attribute of this car."
   ]
  },
  {
   "cell_type": "markdown",
   "metadata": {
    "colab_type": "text",
    "id": "Szqw_HxlTYxk"
   },
   "source": [
    "Let's say you have chosen `name` as a car attribute (what? can't a car have a name?). \n",
    "\n",
    "If you want your class to receive a specific car name as an argument, you have to put this variable as the argument of the `__init__` function. So, to add `name`, the results of your special function definition would be:\n",
    "\n",
    "```python\n",
    "def __init__(self, name):\n",
    "    pass\n",
    "```\n",
    "\n",
    "Now, when you instantiate your Car class, the syntax would be similar to calling a function (which, by now, you should now that it is what you are effectively doing - you are calling the __init__ method), so what the syntax would be:\n",
    "\n",
    "*Hint: If you don't specify an argument, the python interpreter will complain that your class requires one argument (try that - if you don't try it now, it is not a problem, you'll try in future, even when you don't want to).*\n"
   ]
  },
  {
   "cell_type": "code",
   "execution_count": null,
   "metadata": {
    "colab": {},
    "colab_type": "code",
    "id": "Uz0lt0tuTYxk"
   },
   "outputs": [],
   "source": [
    "# your code here\n"
   ]
  },
  {
   "cell_type": "markdown",
   "metadata": {
    "colab_type": "text",
    "id": "FLmjUel1TYxo"
   },
   "source": [
    "### Now let's store that new argument\n",
    "\n",
    "By now, you are only receiving the name of the car as an argument, but you are not doing anything specifically with that variable called `name`.\n",
    "\n",
    "Let's store that in the object. That's the first use of the `self` keyword.\n",
    "\n",
    "To store the variable in a way that the user can access via a `car.SOMETHING`, you have to specify that the object itself is receiving the attribute `name` (for example)\n",
    "\n",
    "Then, **create a variable called `name` that receives the argument `name`** (keep in mind that the name of the variable need not necessarily be the same, you could assing the argument `name` to an attribute called `chimpanze` for example).\n",
    "\n",
    "Also **create the other 5 attributes that you previously had in mind**\n"
   ]
  },
  {
   "cell_type": "code",
   "execution_count": null,
   "metadata": {
    "colab": {},
    "colab_type": "code",
    "id": "7FzwacOwTYxq"
   },
   "outputs": [],
   "source": [
    "# your code here"
   ]
  },
  {
   "cell_type": "markdown",
   "metadata": {
    "colab_type": "text",
    "id": "3fS9sCKjTYxs"
   },
   "source": [
    "### Access the attribute\n",
    "\n",
    "You should now be able to access the object's attribute once you instantiate it as `my_car.name`\n",
    "\n",
    "You can try to write `my_car.<TAB>` to check what attributes or methods your object contains."
   ]
  },
  {
   "cell_type": "code",
   "execution_count": null,
   "metadata": {
    "colab": {},
    "colab_type": "code",
    "id": "if18GWwtTYxt"
   },
   "outputs": [],
   "source": []
  },
  {
   "cell_type": "markdown",
   "metadata": {
    "colab_type": "text",
    "id": "uu5Ma2rvTYxu"
   },
   "source": [
    "## Understanding special methods"
   ]
  },
  {
   "cell_type": "markdown",
   "metadata": {
    "colab_type": "text",
    "id": "ltpSwuvTTYxv"
   },
   "source": [
    "Special methods are the ones that start with double underlines (usually called `dunder`), for example the `__init__` method, the `__doc__` method or `__repr__` method (called as `dunder init`, `dunder doc`, `dunder repr`)."
   ]
  },
  {
   "cell_type": "markdown",
   "metadata": {
    "colab_type": "text",
    "id": "dyytOn27TYxw"
   },
   "source": [
    "The `__repr__` method is responsible to show how your class will be displayed on screen when you display it.\n",
    "Let's create a `__repr__(self)` function on our `Car` class that returns the following string below (copy the string below):\n",
    "\n",
    "```python\n",
    "    car = f'''\n",
    "                  ______--------___\n",
    "                 /|             / |\n",
    "      o___________|_\\__________/__|\n",
    "     ]|___     |  |=   ||  =|___  |\"\n",
    "     //   \\\\    |  |____||_///   \\\\|\"\n",
    "    |  X  |\\--------------/|  X  |\\\"\n",
    "     \\___/                  \\___/\n",
    "    '''\n",
    "```\n",
    "\n",
    "Your class should now have two special methods, `__init__` and `__repr__`"
   ]
  },
  {
   "cell_type": "code",
   "execution_count": null,
   "metadata": {
    "colab": {},
    "colab_type": "code",
    "id": "y4JUYVALTYxw"
   },
   "outputs": [],
   "source": [
    "class Car:\n",
    "    \n",
    "    def __init__(self, car_name):\n",
    "        self.car_name = car_name\n",
    "    \n",
    "    def __repr__(self):\n",
    "        \n",
    "        car = f'''\n",
    "                      ______--------___\n",
    "                     /|             / |\n",
    "          o___________|_\\__________/__|\n",
    "         ]|___     |  |=   ||  =|___  |\"\n",
    "         //   \\\\    |  |____||_///   \\\\|\"\n",
    "        |  X  |\\--------------/|  X  |\\\"\n",
    "         \\___/                  \\___/\n",
    "        '''\n",
    "        \n",
    "        return car"
   ]
  },
  {
   "cell_type": "markdown",
   "metadata": {
    "colab_type": "text",
    "id": "cZV4Qq62TYx4"
   },
   "source": [
    "### Now instantiate your Car class again"
   ]
  },
  {
   "cell_type": "code",
   "execution_count": null,
   "metadata": {
    "colab": {},
    "colab_type": "code",
    "id": "K51Kjik8TYx4"
   },
   "outputs": [],
   "source": [
    "my_car = Car('Jeguinho')"
   ]
  },
  {
   "cell_type": "markdown",
   "metadata": {
    "colab_type": "text",
    "id": "ZoFEGcT1TYx8"
   },
   "source": [
    "### And check what happens when you print your object on screen"
   ]
  },
  {
   "cell_type": "code",
   "execution_count": null,
   "metadata": {
    "colab": {},
    "colab_type": "code",
    "id": "v3JCceBBTYx9"
   },
   "outputs": [],
   "source": [
    "print(my_car)"
   ]
  },
  {
   "cell_type": "markdown",
   "metadata": {
    "colab_type": "text",
    "id": "tfhgwGFDTYyA"
   },
   "source": [
    "### Now create a simple method to receive and return the `self` variable\n",
    "\n",
    "Create a simple method inside your `class Car` and return `self` the self argument. Name this method `get_itself`."
   ]
  },
  {
   "cell_type": "code",
   "execution_count": null,
   "metadata": {
    "colab": {},
    "colab_type": "code",
    "id": "jEQNj8r4TYyB"
   },
   "outputs": [],
   "source": [
    "class Car:\n",
    "    \n",
    "    def __init__(self, car_name):\n",
    "        self.car_name = car_name\n",
    "    \n",
    "    def __repr__(self):\n",
    "        \n",
    "        car = f'''\n",
    "                      ______--------___\n",
    "                     /|             / |\n",
    "          o___________|_\\__________/__|\n",
    "         ]|___     |  |=   ||  =|___  |\"\n",
    "         //   \\\\    |  |____||_///   \\\\|\"\n",
    "        |  X  |\\--------------/|  X  |\\\"\n",
    "         \\___/                  \\___/\n",
    "        '''\n",
    "        \n",
    "        return car\n",
    "    \n",
    "    def get_itself(self):\n",
    "        return self"
   ]
  },
  {
   "cell_type": "markdown",
   "metadata": {
    "colab_type": "text",
    "id": "Zd2avbOGTYyE"
   },
   "source": [
    "#### Now instantiate the Car class and call `get_itself()`"
   ]
  },
  {
   "cell_type": "code",
   "execution_count": null,
   "metadata": {
    "colab": {},
    "colab_type": "code",
    "id": "pUl9ZI8YTYyF"
   },
   "outputs": [],
   "source": [
    "my_car = Car('andre')"
   ]
  },
  {
   "cell_type": "code",
   "execution_count": null,
   "metadata": {
    "colab": {},
    "colab_type": "code",
    "id": "AZ3o-NCkTYyK"
   },
   "outputs": [],
   "source": [
    "my_car.get_itself()"
   ]
  },
  {
   "cell_type": "markdown",
   "metadata": {
    "colab_type": "text",
    "id": "QZ25I6chTYyL"
   },
   "source": [
    "This happens because you are print this specific object. "
   ]
  }
 ],
 "metadata": {
  "colab": {
   "collapsed_sections": [
    "TCj5NklYTYvu",
    "YMpWYJFwTYvz",
    "LWMc9bikTYv4",
    "ikvacQQ3TYv7",
    "MXm2-PEbTYwA",
    "zNR5w4cWTYwE",
    "iqffTpd3TYwU",
    "mn0UwlZATYwX",
    "bs7KvyTwTYwc",
    "tCoX4ZYLTYwj",
    "MTgNfgeYTYwm",
    "VQ9C0CjkTYwq",
    "I0IlScuLTYw5",
    "bh1SJi3lTYxf",
    "EuP7N9DzTYxj",
    "FLmjUel1TYxo",
    "3fS9sCKjTYxs",
    "uu5Ma2rvTYxu",
    "cZV4Qq62TYx4",
    "ZoFEGcT1TYx8",
    "tfhgwGFDTYyA",
    "Zd2avbOGTYyE"
   ],
   "name": "[BONUS] challenge-02.ipynb",
   "provenance": []
  },
  "kernelspec": {
   "display_name": "Python 3",
   "language": "python",
   "name": "python3"
  },
  "language_info": {
   "codemirror_mode": {
    "name": "ipython",
    "version": 3
   },
   "file_extension": ".py",
   "mimetype": "text/x-python",
   "name": "python",
   "nbconvert_exporter": "python",
   "pygments_lexer": "ipython3",
   "version": "3.7.4"
  },
  "toc": {
   "base_numbering": 1,
   "nav_menu": {},
   "number_sections": true,
   "sideBar": true,
   "skip_h1_title": false,
   "title_cell": "Table of Contents",
   "title_sidebar": "Contents",
   "toc_cell": false,
   "toc_position": {},
   "toc_section_display": true,
   "toc_window_display": false
  }
 },
 "nbformat": 4,
 "nbformat_minor": 4
}
