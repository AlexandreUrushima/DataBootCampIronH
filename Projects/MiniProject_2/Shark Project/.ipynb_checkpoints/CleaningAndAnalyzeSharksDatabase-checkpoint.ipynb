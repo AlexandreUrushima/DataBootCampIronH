{
 "cells": [
  {
   "cell_type": "markdown",
   "metadata": {},
   "source": [
    "# Shark Attack Database Mini Project"
   ]
  },
  {
   "cell_type": "markdown",
   "metadata": {},
   "source": [
    "## Objective\n",
    "<br>\n",
    "\n",
    "* Organize and clean a csv data file.\n",
    "\n",
    "* Detail and explain all python code and commands used in the importing, cleaning, manipulation, exporting and analysis.\n",
    "\n",
    "<br>\n",
    "\n",
    "database version: 7.1"
   ]
  },
  {
   "cell_type": "markdown",
   "metadata": {},
   "source": [
    "# Starting the code"
   ]
  },
  {
   "cell_type": "markdown",
   "metadata": {},
   "source": [
    "## Importing libraries"
   ]
  },
  {
   "cell_type": "code",
   "execution_count": 111,
   "metadata": {},
   "outputs": [],
   "source": [
    "import pandas as pd\n",
    "import numpy as np\n",
    "import re\n",
    "import countryinfo"
   ]
  },
  {
   "cell_type": "markdown",
   "metadata": {},
   "source": [
    "## Importing database\n",
    "\n",
    "Importing a csv database using latin-1 encoding"
   ]
  },
  {
   "cell_type": "code",
   "execution_count": 3,
   "metadata": {},
   "outputs": [],
   "source": [
    "# Importing csv database as \"sharks\"\n",
    "sharks = pd.read_csv('GSAF5.csv', sep = ',', encoding='latin-1')\n",
    "\n",
    "# Creating a backup copy\n",
    "sharks_bkp = sharks.copy()"
   ]
  },
  {
   "cell_type": "markdown",
   "metadata": {},
   "source": [
    "## Declaring functions"
   ]
  },
  {
   "cell_type": "code",
   "execution_count": 4,
   "metadata": {},
   "outputs": [],
   "source": [
    "def standardize_headers(df, func=None):\n",
    "    '''\n",
    "    This functions works cleaning columns names:\n",
    "    Replacing whitespaces, lower characteres and turning to string.\n",
    "    '''\n",
    "    df.columns = df.columns.str.replace(' ', '_').str.lower()\n",
    "    if func:\n",
    "      df = df.apply(func)\n",
    "    return df"
   ]
  },
  {
   "cell_type": "markdown",
   "metadata": {},
   "source": [
    "## Data Cleaning\n",
    "\n",
    "Starting by steps cleaning this database to improve quality and productivity. Cleaning all incorrect information, just leaving the highest quality info."
   ]
  },
  {
   "cell_type": "code",
   "execution_count": 5,
   "metadata": {},
   "outputs": [
    {
     "data": {
      "text/plain": [
       "(5992, 24)"
      ]
     },
     "execution_count": 5,
     "metadata": {},
     "output_type": "execute_result"
    }
   ],
   "source": [
    "# Dataframe shape\n",
    "sharks.shape"
   ]
  },
  {
   "cell_type": "markdown",
   "metadata": {},
   "source": [
    "### Cleaning Columns\n",
    "<br>\n",
    "\n",
    "* Cleaning whitespaces\n",
    "\n",
    "<br>\n",
    "\n",
    "* Special characters\n",
    "\n",
    "<br>\n",
    "\n",
    "* Lower all characters. \n",
    "\n",
    "<br>\n"
   ]
  },
  {
   "cell_type": "code",
   "execution_count": 6,
   "metadata": {},
   "outputs": [
    {
     "data": {
      "text/html": [
       "<div>\n",
       "<style scoped>\n",
       "    .dataframe tbody tr th:only-of-type {\n",
       "        vertical-align: middle;\n",
       "    }\n",
       "\n",
       "    .dataframe tbody tr th {\n",
       "        vertical-align: top;\n",
       "    }\n",
       "\n",
       "    .dataframe thead th {\n",
       "        text-align: right;\n",
       "    }\n",
       "</style>\n",
       "<table border=\"1\" class=\"dataframe\">\n",
       "  <thead>\n",
       "    <tr style=\"text-align: right;\">\n",
       "      <th></th>\n",
       "      <th>case_number</th>\n",
       "      <th>date</th>\n",
       "      <th>year</th>\n",
       "      <th>type</th>\n",
       "      <th>country</th>\n",
       "      <th>area</th>\n",
       "      <th>location</th>\n",
       "      <th>activity</th>\n",
       "      <th>name</th>\n",
       "      <th>sex_</th>\n",
       "      <th>...</th>\n",
       "      <th>species_</th>\n",
       "      <th>investigator_or_source</th>\n",
       "      <th>pdf</th>\n",
       "      <th>href_formula</th>\n",
       "      <th>href</th>\n",
       "      <th>case_number.1</th>\n",
       "      <th>case_number.2</th>\n",
       "      <th>original_order</th>\n",
       "      <th>unnamed:_22</th>\n",
       "      <th>unnamed:_23</th>\n",
       "    </tr>\n",
       "  </thead>\n",
       "  <tbody>\n",
       "    <tr>\n",
       "      <th>0</th>\n",
       "      <td>2016.09.18.c</td>\n",
       "      <td>18-Sep-16</td>\n",
       "      <td>2016</td>\n",
       "      <td>Unprovoked</td>\n",
       "      <td>USA</td>\n",
       "      <td>Florida</td>\n",
       "      <td>New Smyrna Beach, Volusia County</td>\n",
       "      <td>Surfing</td>\n",
       "      <td>male</td>\n",
       "      <td>M</td>\n",
       "      <td>...</td>\n",
       "      <td>NaN</td>\n",
       "      <td>Orlando Sentinel, 9/19/2016</td>\n",
       "      <td>2016.09.18.c-NSB.pdf</td>\n",
       "      <td>http://sharkattackfile.net/spreadsheets/pdf_di...</td>\n",
       "      <td>http://sharkattackfile.net/spreadsheets/pdf_di...</td>\n",
       "      <td>2016.09.18.c</td>\n",
       "      <td>2016.09.18.c</td>\n",
       "      <td>5993</td>\n",
       "      <td>NaN</td>\n",
       "      <td>NaN</td>\n",
       "    </tr>\n",
       "    <tr>\n",
       "      <th>1</th>\n",
       "      <td>2016.09.18.b</td>\n",
       "      <td>18-Sep-16</td>\n",
       "      <td>2016</td>\n",
       "      <td>Unprovoked</td>\n",
       "      <td>USA</td>\n",
       "      <td>Florida</td>\n",
       "      <td>New Smyrna Beach, Volusia County</td>\n",
       "      <td>Surfing</td>\n",
       "      <td>Chucky Luciano</td>\n",
       "      <td>M</td>\n",
       "      <td>...</td>\n",
       "      <td>NaN</td>\n",
       "      <td>Orlando Sentinel, 9/19/2016</td>\n",
       "      <td>2016.09.18.b-Luciano.pdf</td>\n",
       "      <td>http://sharkattackfile.net/spreadsheets/pdf_di...</td>\n",
       "      <td>http://sharkattackfile.net/spreadsheets/pdf_di...</td>\n",
       "      <td>2016.09.18.b</td>\n",
       "      <td>2016.09.18.b</td>\n",
       "      <td>5992</td>\n",
       "      <td>NaN</td>\n",
       "      <td>NaN</td>\n",
       "    </tr>\n",
       "    <tr>\n",
       "      <th>2</th>\n",
       "      <td>2016.09.18.a</td>\n",
       "      <td>18-Sep-16</td>\n",
       "      <td>2016</td>\n",
       "      <td>Unprovoked</td>\n",
       "      <td>USA</td>\n",
       "      <td>Florida</td>\n",
       "      <td>New Smyrna Beach, Volusia County</td>\n",
       "      <td>Surfing</td>\n",
       "      <td>male</td>\n",
       "      <td>M</td>\n",
       "      <td>...</td>\n",
       "      <td>NaN</td>\n",
       "      <td>Orlando Sentinel, 9/19/2016</td>\n",
       "      <td>2016.09.18.a-NSB.pdf</td>\n",
       "      <td>http://sharkattackfile.net/spreadsheets/pdf_di...</td>\n",
       "      <td>http://sharkattackfile.net/spreadsheets/pdf_di...</td>\n",
       "      <td>2016.09.18.a</td>\n",
       "      <td>2016.09.18.a</td>\n",
       "      <td>5991</td>\n",
       "      <td>NaN</td>\n",
       "      <td>NaN</td>\n",
       "    </tr>\n",
       "    <tr>\n",
       "      <th>3</th>\n",
       "      <td>2016.09.17</td>\n",
       "      <td>17-Sep-16</td>\n",
       "      <td>2016</td>\n",
       "      <td>Unprovoked</td>\n",
       "      <td>AUSTRALIA</td>\n",
       "      <td>Victoria</td>\n",
       "      <td>Thirteenth Beach</td>\n",
       "      <td>Surfing</td>\n",
       "      <td>Rory Angiolella</td>\n",
       "      <td>M</td>\n",
       "      <td>...</td>\n",
       "      <td>NaN</td>\n",
       "      <td>The Age, 9/18/2016</td>\n",
       "      <td>2016.09.17-Angiolella.pdf</td>\n",
       "      <td>http://sharkattackfile.net/spreadsheets/pdf_di...</td>\n",
       "      <td>http://sharkattackfile.net/spreadsheets/pdf_di...</td>\n",
       "      <td>2016.09.17</td>\n",
       "      <td>2016.09.17</td>\n",
       "      <td>5990</td>\n",
       "      <td>NaN</td>\n",
       "      <td>NaN</td>\n",
       "    </tr>\n",
       "    <tr>\n",
       "      <th>4</th>\n",
       "      <td>2016.09.15</td>\n",
       "      <td>16-Sep-16</td>\n",
       "      <td>2016</td>\n",
       "      <td>Unprovoked</td>\n",
       "      <td>AUSTRALIA</td>\n",
       "      <td>Victoria</td>\n",
       "      <td>Bells Beach</td>\n",
       "      <td>Surfing</td>\n",
       "      <td>male</td>\n",
       "      <td>M</td>\n",
       "      <td>...</td>\n",
       "      <td>2 m shark</td>\n",
       "      <td>The Age, 9/16/2016</td>\n",
       "      <td>2016.09.16-BellsBeach.pdf</td>\n",
       "      <td>http://sharkattackfile.net/spreadsheets/pdf_di...</td>\n",
       "      <td>http://sharkattackfile.net/spreadsheets/pdf_di...</td>\n",
       "      <td>2016.09.16</td>\n",
       "      <td>2016.09.15</td>\n",
       "      <td>5989</td>\n",
       "      <td>NaN</td>\n",
       "      <td>NaN</td>\n",
       "    </tr>\n",
       "  </tbody>\n",
       "</table>\n",
       "<p>5 rows × 24 columns</p>\n",
       "</div>"
      ],
      "text/plain": [
       "    case_number       date  year        type    country      area  \\\n",
       "0  2016.09.18.c  18-Sep-16  2016  Unprovoked        USA   Florida   \n",
       "1  2016.09.18.b  18-Sep-16  2016  Unprovoked        USA   Florida   \n",
       "2  2016.09.18.a  18-Sep-16  2016  Unprovoked        USA   Florida   \n",
       "3    2016.09.17  17-Sep-16  2016  Unprovoked  AUSTRALIA  Victoria   \n",
       "4    2016.09.15  16-Sep-16  2016  Unprovoked  AUSTRALIA  Victoria   \n",
       "\n",
       "                           location activity             name sex_  ...  \\\n",
       "0  New Smyrna Beach, Volusia County  Surfing             male    M  ...   \n",
       "1  New Smyrna Beach, Volusia County  Surfing   Chucky Luciano    M  ...   \n",
       "2  New Smyrna Beach, Volusia County  Surfing             male    M  ...   \n",
       "3                  Thirteenth Beach  Surfing  Rory Angiolella    M  ...   \n",
       "4                       Bells Beach  Surfing             male    M  ...   \n",
       "\n",
       "    species_       investigator_or_source                        pdf  \\\n",
       "0        NaN  Orlando Sentinel, 9/19/2016       2016.09.18.c-NSB.pdf   \n",
       "1        NaN  Orlando Sentinel, 9/19/2016   2016.09.18.b-Luciano.pdf   \n",
       "2        NaN  Orlando Sentinel, 9/19/2016       2016.09.18.a-NSB.pdf   \n",
       "3        NaN           The Age, 9/18/2016  2016.09.17-Angiolella.pdf   \n",
       "4  2 m shark           The Age, 9/16/2016  2016.09.16-BellsBeach.pdf   \n",
       "\n",
       "                                        href_formula  \\\n",
       "0  http://sharkattackfile.net/spreadsheets/pdf_di...   \n",
       "1  http://sharkattackfile.net/spreadsheets/pdf_di...   \n",
       "2  http://sharkattackfile.net/spreadsheets/pdf_di...   \n",
       "3  http://sharkattackfile.net/spreadsheets/pdf_di...   \n",
       "4  http://sharkattackfile.net/spreadsheets/pdf_di...   \n",
       "\n",
       "                                                href case_number.1  \\\n",
       "0  http://sharkattackfile.net/spreadsheets/pdf_di...  2016.09.18.c   \n",
       "1  http://sharkattackfile.net/spreadsheets/pdf_di...  2016.09.18.b   \n",
       "2  http://sharkattackfile.net/spreadsheets/pdf_di...  2016.09.18.a   \n",
       "3  http://sharkattackfile.net/spreadsheets/pdf_di...    2016.09.17   \n",
       "4  http://sharkattackfile.net/spreadsheets/pdf_di...    2016.09.16   \n",
       "\n",
       "  case_number.2 original_order unnamed:_22 unnamed:_23  \n",
       "0  2016.09.18.c           5993         NaN         NaN  \n",
       "1  2016.09.18.b           5992         NaN         NaN  \n",
       "2  2016.09.18.a           5991         NaN         NaN  \n",
       "3    2016.09.17           5990         NaN         NaN  \n",
       "4    2016.09.15           5989         NaN         NaN  \n",
       "\n",
       "[5 rows x 24 columns]"
      ]
     },
     "execution_count": 6,
     "metadata": {},
     "output_type": "execute_result"
    }
   ],
   "source": [
    "standardize_headers(sharks)\n",
    "sharks.head()"
   ]
  },
  {
   "cell_type": "markdown",
   "metadata": {},
   "source": [
    "### Checking Null and NaN"
   ]
  },
  {
   "cell_type": "code",
   "execution_count": 7,
   "metadata": {},
   "outputs": [
    {
     "data": {
      "text/plain": [
       "case_number                  0\n",
       "date                         0\n",
       "year                         0\n",
       "type                         0\n",
       "country                     43\n",
       "area                       402\n",
       "location                   496\n",
       "activity                   527\n",
       "name                       200\n",
       "sex_                       567\n",
       "age                       2681\n",
       "injury                      27\n",
       "fatal_(y/n)                 19\n",
       "time                      3213\n",
       "species_                  2934\n",
       "investigator_or_source      15\n",
       "pdf                          0\n",
       "href_formula                 1\n",
       "href                         3\n",
       "case_number.1                0\n",
       "case_number.2                0\n",
       "original_order               0\n",
       "unnamed:_22               5991\n",
       "unnamed:_23               5990\n",
       "dtype: int64"
      ]
     },
     "execution_count": 7,
     "metadata": {},
     "output_type": "execute_result"
    }
   ],
   "source": [
    "# Searching for NaN values\n",
    "sharks.isna().sum()"
   ]
  },
  {
   "cell_type": "code",
   "execution_count": 8,
   "metadata": {},
   "outputs": [
    {
     "data": {
      "text/plain": [
       "case_number                  0\n",
       "date                         0\n",
       "year                         0\n",
       "type                         0\n",
       "country                     43\n",
       "area                       402\n",
       "location                   496\n",
       "activity                   527\n",
       "name                       200\n",
       "sex_                       567\n",
       "age                       2681\n",
       "injury                      27\n",
       "fatal_(y/n)                 19\n",
       "time                      3213\n",
       "species_                  2934\n",
       "investigator_or_source      15\n",
       "pdf                          0\n",
       "href_formula                 1\n",
       "href                         3\n",
       "case_number.1                0\n",
       "case_number.2                0\n",
       "original_order               0\n",
       "unnamed:_22               5991\n",
       "unnamed:_23               5990\n",
       "dtype: int64"
      ]
     },
     "execution_count": 8,
     "metadata": {},
     "output_type": "execute_result"
    }
   ],
   "source": [
    "# Searching for Null values\n",
    "sharks.isnull().sum()"
   ]
  },
  {
   "cell_type": "code",
   "execution_count": 9,
   "metadata": {},
   "outputs": [
    {
     "data": {
      "text/plain": [
       "0"
      ]
     },
     "execution_count": 9,
     "metadata": {},
     "output_type": "execute_result"
    }
   ],
   "source": [
    "# Searching for duplicates rows\n",
    "sharks.duplicated().sum()"
   ]
  },
  {
   "cell_type": "markdown",
   "metadata": {},
   "source": [
    "### Dropping column"
   ]
  },
  {
   "cell_type": "markdown",
   "metadata": {},
   "source": [
    "#### Dropping two NaN columns \n",
    "\n",
    "<br>\n",
    "\n",
    "For improve performance and having no useful data."
   ]
  },
  {
   "cell_type": "code",
   "execution_count": 10,
   "metadata": {},
   "outputs": [],
   "source": [
    "sharks = sharks.drop(axis = 1, columns = ['unnamed:_22', 'unnamed:_23'])"
   ]
  },
  {
   "cell_type": "markdown",
   "metadata": {},
   "source": [
    "#### Drop original_order column\n",
    "\n",
    "<br>\n",
    "\n",
    "A column than was a Original index that is no longer useful."
   ]
  },
  {
   "cell_type": "code",
   "execution_count": 11,
   "metadata": {},
   "outputs": [],
   "source": [
    "sharks = sharks.drop(axis = 1, columns = ['original_order'])"
   ]
  },
  {
   "cell_type": "code",
   "execution_count": 36,
   "metadata": {},
   "outputs": [
    {
     "data": {
      "text/plain": [
       "True     5979\n",
       "False      13\n",
       "dtype: int64"
      ]
     },
     "execution_count": 36,
     "metadata": {},
     "output_type": "execute_result"
    }
   ],
   "source": [
    "sharks_case = sharks['case_number'] == sharks['case_number.1']\n",
    "sharks_case.value_counts()"
   ]
  },
  {
   "cell_type": "code",
   "execution_count": 13,
   "metadata": {},
   "outputs": [
    {
     "data": {
      "text/plain": [
       "True     5981\n",
       "False      11\n",
       "dtype: int64"
      ]
     },
     "execution_count": 13,
     "metadata": {},
     "output_type": "execute_result"
    }
   ],
   "source": [
    "sharks_case = sharks['case_number.1'] == sharks['case_number.2']\n",
    "sharks_case.value_counts()"
   ]
  },
  {
   "cell_type": "code",
   "execution_count": 29,
   "metadata": {},
   "outputs": [
    {
     "data": {
      "text/plain": [
       "True     5981\n",
       "False      11\n",
       "dtype: int64"
      ]
     },
     "execution_count": 29,
     "metadata": {},
     "output_type": "execute_result"
    }
   ],
   "source": [
    "sharks_href = sharks['href_formula'] == sharks['href']\n",
    "sharks_case.value_counts()"
   ]
  },
  {
   "cell_type": "markdown",
   "metadata": {},
   "source": [
    "### Drop duplicate column\n",
    "\n",
    "<br>\n",
    "\n",
    "* case_number.2 and case_number.1 was duplicate column of case_number\n",
    "\n",
    "\n",
    "<br>\n",
    "\n",
    "* href_formula was a duplicate column of href\n",
    "\n",
    "<br>"
   ]
  },
  {
   "cell_type": "code",
   "execution_count": 37,
   "metadata": {},
   "outputs": [],
   "source": [
    "sharks = sharks.drop(axis = 1, columns = ['case_number.1'])"
   ]
  },
  {
   "cell_type": "code",
   "execution_count": 23,
   "metadata": {},
   "outputs": [],
   "source": [
    "sharks = sharks.drop(axis = 1, columns = ['case_number.2'])"
   ]
  },
  {
   "cell_type": "code",
   "execution_count": 30,
   "metadata": {},
   "outputs": [],
   "source": [
    "sharks = sharks.drop(axis = 1, columns = ['href_formula'])"
   ]
  },
  {
   "cell_type": "markdown",
   "metadata": {},
   "source": [
    "## Data Manipulation"
   ]
  },
  {
   "cell_type": "markdown",
   "metadata": {},
   "source": [
    "### Creating and cleaning a column of months"
   ]
  },
  {
   "cell_type": "code",
   "execution_count": 58,
   "metadata": {},
   "outputs": [],
   "source": [
    "temp_lst = []\n",
    "for row in sharks['date']:\n",
    "    temp_row = ''.join(re.findall('\\-[A-Za-z]{3}\\-',row)).lower()\n",
    "    temp_row = re.sub('\\-','',temp_row)\n",
    "        \n",
    "        \n",
    "    if temp_row == '':\n",
    "        temp_row = np.nan\n",
    "\n",
    "    temp_lst.append(temp_row)\n",
    "sharks['month'] = temp_lst"
   ]
  },
  {
   "cell_type": "code",
   "execution_count": 94,
   "metadata": {},
   "outputs": [
    {
     "data": {
      "text/plain": [
       "NaN       870\n",
       "jul       590\n",
       "aug       537\n",
       "sep       491\n",
       "jan       476\n",
       "jun       453\n",
       "dec       397\n",
       "oct       385\n",
       "apr       375\n",
       "mar       367\n",
       "nov       365\n",
       "may       344\n",
       "feb       335\n",
       "marmar      2\n",
       "janjan      1\n",
       "jut         1\n",
       "novnov      1\n",
       "augaug      1\n",
       "sepsep      1\n",
       "Name: month, dtype: int64"
      ]
     },
     "execution_count": 94,
     "metadata": {},
     "output_type": "execute_result"
    }
   ],
   "source": [
    "sharks['month'].value_counts(dropna=False)"
   ]
  },
  {
   "cell_type": "markdown",
   "metadata": {},
   "source": [
    "Droping NaN rows and correcting months name that are incorrectly"
   ]
  },
  {
   "cell_type": "code",
   "execution_count": 97,
   "metadata": {},
   "outputs": [],
   "source": [
    "sharks = sharks.dropna(subset = ['month'])"
   ]
  },
  {
   "cell_type": "code",
   "execution_count": 99,
   "metadata": {},
   "outputs": [],
   "source": [
    "for row in sharks['month']:\n",
    "    if len(row) > 3:\n",
    "        sharks['month'].replace(row, row[:3], inplace = True)\n",
    "    elif row == 'jut':\n",
    "        sharks['month'].replace(row,'jun', inplace = True)"
   ]
  },
  {
   "cell_type": "code",
   "execution_count": 100,
   "metadata": {},
   "outputs": [
    {
     "data": {
      "text/plain": [
       "jul    590\n",
       "aug    538\n",
       "sep    492\n",
       "jan    477\n",
       "jun    454\n",
       "dec    397\n",
       "oct    385\n",
       "apr    375\n",
       "mar    369\n",
       "nov    366\n",
       "may    344\n",
       "feb    335\n",
       "Name: month, dtype: int64"
      ]
     },
     "execution_count": 100,
     "metadata": {},
     "output_type": "execute_result"
    }
   ],
   "source": [
    "sharks['month'].value_counts(dropna=False)"
   ]
  },
  {
   "cell_type": "markdown",
   "metadata": {},
   "source": [
    "### Cleaning Country column"
   ]
  },
  {
   "cell_type": "code",
   "execution_count": 157,
   "metadata": {},
   "outputs": [],
   "source": [
    "for row in sharks['country']:\n",
    "    if isinstance(row, str):\n",
    "        new_row = re.sub('\\/.+|\\(.+\\)|\\.|\\?', '', row)\n",
    "        new_row = re.sub('\\&', 'and', new_row.strip().lower())\n",
    "        \n",
    "        if new_row == 'usa':\n",
    "            new_row = new_row.replace(new_row, 'united states')\n",
    "        elif new_row == 'bahamas':\n",
    "            new_row = new_row.replace(new_row, 'the bahamas')\n",
    "        elif new_row == 'england' or new_row == 'british isles':\n",
    "            new_row = new_row.replace(new_row, 'united kingdom')\n",
    "        elif new_row == 'reunion':\n",
    "            new_row = new_row.replace(new_row, 'réunion')\n",
    "        elif new_row == 'okinawa':\n",
    "            new_row = new_row.replace(new_row, 'japan')\n",
    "        elif new_row == 'azores':\n",
    "            new_row = new_row.replace(new_row, 'portugal')\n",
    "        elif new_row == 'red sea':\n",
    "            new_row = new_row.replace(new_row, 'egypt')\n",
    "        elif new_row == 'columbia':\n",
    "            new_row = new_row.replace(new_row, 'colombia')\n",
    "        elif new_row == 'new britain' or new_row == 'new guinea' or new_row == 'british new guinea' or new_row == 'admiralty islands':\n",
    "            new_row = new_row.replace(new_row, 'papua new guinea')\n",
    "        \n",
    "        sharks['country'].replace(row,new_row, inplace=True)\n",
    "    else:\n",
    "        sharks['country'].replace(row,np.nan, inplace=True)"
   ]
  },
  {
   "cell_type": "code",
   "execution_count": 190,
   "metadata": {},
   "outputs": [
    {
     "data": {
      "text/plain": [
       "array(['united states', 'australia', 'new caledonia', 'réunion',\n",
       "       'the bahamas', 'spain', 'china', 'japan', 'colombia',\n",
       "       'south africa', 'egypt', 'new zealand', 'indonesia',\n",
       "       'french polynesia', 'cape verde', 'fiji', 'brazil',\n",
       "       'dominican republic', 'cayman islands', 'united arab emirates',\n",
       "       'aruba', 'mozambique', 'thailand', 'puerto rico', 'italy',\n",
       "       'mexico', 'atlantic ocean', 'greece', 'mauritius', 'st martin',\n",
       "       'france', 'ecuador', 'papua new guinea', 'trinidad and tobago',\n",
       "       'kiribati', 'israel', 'diego garcia', 'taiwan', 'jamaica',\n",
       "       'palestinian territories', 'guam', 'seychelles', 'belize',\n",
       "       'philippines', 'nigeria', 'tonga', 'scotland', 'canada', 'croatia',\n",
       "       'saudi arabia', 'chile', 'antigua', 'kenya', 'russia',\n",
       "       'turks and caicos', 'costa rica', 'united kingdom', 'malaysia',\n",
       "       'samoa', 'portugal', 'solomon islands', 'south korea', 'malta',\n",
       "       'vietnam', 'madagascar', 'panama', 'somalia', 'nevis', 'cuba',\n",
       "       'british virgin islands', 'norway', 'yemen', 'sierra leone',\n",
       "       'st maartin', 'grand cayman', 'liberia', 'vanuatu', 'honduras',\n",
       "       'venezuela', 'sri lanka', 'uruguay', 'india', 'micronesia',\n",
       "       'tanzania', 'marshall islands', 'northern arabian sea',\n",
       "       'hong kong', 'el salvador', 'caribbean sea', 'bermuda', 'namibia',\n",
       "       'south china sea', 'western samoa', 'pacific ocean', 'palau', nan,\n",
       "       'grenada', 'turkey', 'singapore', 'sudan', 'johnston island',\n",
       "       'north pacific ocean', 'federated states of micronesia',\n",
       "       'british west indies', 'south atlantic ocean',\n",
       "       'mid atlantic ocean', 'persian gulf', 'senegal', 'north sea',\n",
       "       'american samoa', 'andaman', 'gabon', 'montenegro', 'the balkans',\n",
       "       'argentina', 'guatemala', 'netherlands antilles',\n",
       "       'north atlantic ocean', 'iran', 'northern mariana islands',\n",
       "       'central pacific', 'indian ocean', 'southwest pacific ocean',\n",
       "       'bay of bengal', 'nicaragua', 'iraq', 'barbados', 'guyana',\n",
       "       'haiti', 'ireland', 'kuwait', 'tunisia', 'mediterranean sea',\n",
       "       'cyprus', 'libya', 'burma', 'lebanon', 'paraguay', 'georgia',\n",
       "       'guinea', 'equatorial guinea', 'cook islands', 'coast of africa',\n",
       "       'tasman sea', 'st helena', 'between portugal and india'],\n",
       "      dtype=object)"
      ]
     },
     "execution_count": 190,
     "metadata": {},
     "output_type": "execute_result"
    }
   ],
   "source": [
    "sharks['country'].unique()"
   ]
  },
  {
   "cell_type": "code",
   "execution_count": 187,
   "metadata": {},
   "outputs": [
    {
     "data": {
      "text/html": [
       "<div>\n",
       "<style scoped>\n",
       "    .dataframe tbody tr th:only-of-type {\n",
       "        vertical-align: middle;\n",
       "    }\n",
       "\n",
       "    .dataframe tbody tr th {\n",
       "        vertical-align: top;\n",
       "    }\n",
       "\n",
       "    .dataframe thead th {\n",
       "        text-align: right;\n",
       "    }\n",
       "</style>\n",
       "<table border=\"1\" class=\"dataframe\">\n",
       "  <thead>\n",
       "    <tr style=\"text-align: right;\">\n",
       "      <th></th>\n",
       "      <th>case_number</th>\n",
       "      <th>date</th>\n",
       "      <th>month</th>\n",
       "      <th>year</th>\n",
       "      <th>type</th>\n",
       "      <th>country</th>\n",
       "      <th>area</th>\n",
       "      <th>location</th>\n",
       "      <th>activity</th>\n",
       "      <th>name</th>\n",
       "      <th>sex_</th>\n",
       "      <th>age</th>\n",
       "      <th>injury</th>\n",
       "      <th>fatal_(y/n)</th>\n",
       "      <th>time</th>\n",
       "      <th>species_</th>\n",
       "      <th>investigator_or_source</th>\n",
       "      <th>pdf</th>\n",
       "      <th>href</th>\n",
       "    </tr>\n",
       "  </thead>\n",
       "  <tbody>\n",
       "    <tr>\n",
       "      <th>0</th>\n",
       "      <td>2016.09.18.c</td>\n",
       "      <td>18-Sep-16</td>\n",
       "      <td>sep</td>\n",
       "      <td>2016</td>\n",
       "      <td>Unprovoked</td>\n",
       "      <td>united states</td>\n",
       "      <td>Florida</td>\n",
       "      <td>New Smyrna Beach, Volusia County</td>\n",
       "      <td>Surfing</td>\n",
       "      <td>male</td>\n",
       "      <td>M</td>\n",
       "      <td>16</td>\n",
       "      <td>Minor injury to thigh</td>\n",
       "      <td>N</td>\n",
       "      <td>13h00</td>\n",
       "      <td>NaN</td>\n",
       "      <td>Orlando Sentinel, 9/19/2016</td>\n",
       "      <td>2016.09.18.c-NSB.pdf</td>\n",
       "      <td>http://sharkattackfile.net/spreadsheets/pdf_di...</td>\n",
       "    </tr>\n",
       "    <tr>\n",
       "      <th>1</th>\n",
       "      <td>2016.09.18.b</td>\n",
       "      <td>18-Sep-16</td>\n",
       "      <td>sep</td>\n",
       "      <td>2016</td>\n",
       "      <td>Unprovoked</td>\n",
       "      <td>united states</td>\n",
       "      <td>Florida</td>\n",
       "      <td>New Smyrna Beach, Volusia County</td>\n",
       "      <td>Surfing</td>\n",
       "      <td>Chucky Luciano</td>\n",
       "      <td>M</td>\n",
       "      <td>36</td>\n",
       "      <td>Lacerations to hands</td>\n",
       "      <td>N</td>\n",
       "      <td>11h00</td>\n",
       "      <td>NaN</td>\n",
       "      <td>Orlando Sentinel, 9/19/2016</td>\n",
       "      <td>2016.09.18.b-Luciano.pdf</td>\n",
       "      <td>http://sharkattackfile.net/spreadsheets/pdf_di...</td>\n",
       "    </tr>\n",
       "    <tr>\n",
       "      <th>2</th>\n",
       "      <td>2016.09.18.a</td>\n",
       "      <td>18-Sep-16</td>\n",
       "      <td>sep</td>\n",
       "      <td>2016</td>\n",
       "      <td>Unprovoked</td>\n",
       "      <td>united states</td>\n",
       "      <td>Florida</td>\n",
       "      <td>New Smyrna Beach, Volusia County</td>\n",
       "      <td>Surfing</td>\n",
       "      <td>male</td>\n",
       "      <td>M</td>\n",
       "      <td>43</td>\n",
       "      <td>Lacerations to lower leg</td>\n",
       "      <td>N</td>\n",
       "      <td>10h43</td>\n",
       "      <td>NaN</td>\n",
       "      <td>Orlando Sentinel, 9/19/2016</td>\n",
       "      <td>2016.09.18.a-NSB.pdf</td>\n",
       "      <td>http://sharkattackfile.net/spreadsheets/pdf_di...</td>\n",
       "    </tr>\n",
       "    <tr>\n",
       "      <th>13</th>\n",
       "      <td>2016.08.29.b</td>\n",
       "      <td>29-Aug-16</td>\n",
       "      <td>aug</td>\n",
       "      <td>2016</td>\n",
       "      <td>Unprovoked</td>\n",
       "      <td>united states</td>\n",
       "      <td>Florida</td>\n",
       "      <td>New Smyrna Beach, Volusia County</td>\n",
       "      <td>Surfing</td>\n",
       "      <td>Sam Cumiskey</td>\n",
       "      <td>M</td>\n",
       "      <td>25</td>\n",
       "      <td>Lacerations to right foot</td>\n",
       "      <td>N</td>\n",
       "      <td>15h00</td>\n",
       "      <td>Bull shark, 6'</td>\n",
       "      <td>News Channel 8, 8/30/16</td>\n",
       "      <td>2016.08.29.b-Cumiskey.pdf</td>\n",
       "      <td>http://sharkattackfile.net/spreadsheets/pdf_di...</td>\n",
       "    </tr>\n",
       "    <tr>\n",
       "      <th>14</th>\n",
       "      <td>2016.08.29.a</td>\n",
       "      <td>29-Aug-16</td>\n",
       "      <td>aug</td>\n",
       "      <td>2016</td>\n",
       "      <td>Unprovoked</td>\n",
       "      <td>united states</td>\n",
       "      <td>Florida</td>\n",
       "      <td>New Smyrna Beach, Volusia County</td>\n",
       "      <td>Surfing</td>\n",
       "      <td>male</td>\n",
       "      <td>M</td>\n",
       "      <td>37</td>\n",
       "      <td>Minor injury to ankle</td>\n",
       "      <td>N</td>\n",
       "      <td>14h00</td>\n",
       "      <td>NaN</td>\n",
       "      <td>News Channel 8, 8/30/16</td>\n",
       "      <td>2016.08.29.a-NSB.pdf</td>\n",
       "      <td>http://sharkattackfile.net/spreadsheets/pdf_di...</td>\n",
       "    </tr>\n",
       "    <tr>\n",
       "      <th>...</th>\n",
       "      <td>...</td>\n",
       "      <td>...</td>\n",
       "      <td>...</td>\n",
       "      <td>...</td>\n",
       "      <td>...</td>\n",
       "      <td>...</td>\n",
       "      <td>...</td>\n",
       "      <td>...</td>\n",
       "      <td>...</td>\n",
       "      <td>...</td>\n",
       "      <td>...</td>\n",
       "      <td>...</td>\n",
       "      <td>...</td>\n",
       "      <td>...</td>\n",
       "      <td>...</td>\n",
       "      <td>...</td>\n",
       "      <td>...</td>\n",
       "      <td>...</td>\n",
       "      <td>...</td>\n",
       "    </tr>\n",
       "    <tr>\n",
       "      <th>3231</th>\n",
       "      <td>1968.09.22</td>\n",
       "      <td>22-Sep-68</td>\n",
       "      <td>sep</td>\n",
       "      <td>1968</td>\n",
       "      <td>Invalid</td>\n",
       "      <td>united states</td>\n",
       "      <td>Florida</td>\n",
       "      <td>Riviera Beach, Palm Beach County</td>\n",
       "      <td>Surfing</td>\n",
       "      <td>NaN</td>\n",
       "      <td>NaN</td>\n",
       "      <td>NaN</td>\n",
       "      <td>NaN</td>\n",
       "      <td>UNKNOWN</td>\n",
       "      <td>12h48</td>\n",
       "      <td>Shark involvement not confirmed</td>\n",
       "      <td>M. Vorenberg</td>\n",
       "      <td>1968.09.22-NV-RivieraBeach.pdf</td>\n",
       "      <td>http://sharkattackfile.net/spreadsheets/pdf_di...</td>\n",
       "    </tr>\n",
       "    <tr>\n",
       "      <th>3254</th>\n",
       "      <td>1968.03.10</td>\n",
       "      <td>10-Mar-68</td>\n",
       "      <td>mar</td>\n",
       "      <td>1968</td>\n",
       "      <td>Unprovoked</td>\n",
       "      <td>united states</td>\n",
       "      <td>Florida</td>\n",
       "      <td>Jensen Beach, Martin County</td>\n",
       "      <td>Surfing</td>\n",
       "      <td>Jan Icyda</td>\n",
       "      <td>M</td>\n",
       "      <td>20</td>\n",
       "      <td>Foot lacerated</td>\n",
       "      <td>N</td>\n",
       "      <td>Afternoon</td>\n",
       "      <td>NaN</td>\n",
       "      <td>H.D. Baldridge (1994) SAF Case #1548</td>\n",
       "      <td>1968.03.10-Icyda.pdf</td>\n",
       "      <td>http://sharkattackfile.net/spreadsheets/pdf_di...</td>\n",
       "    </tr>\n",
       "    <tr>\n",
       "      <th>3256</th>\n",
       "      <td>1968.02.26</td>\n",
       "      <td>26-Feb-68</td>\n",
       "      <td>feb</td>\n",
       "      <td>1968</td>\n",
       "      <td>Unprovoked</td>\n",
       "      <td>united states</td>\n",
       "      <td>Florida</td>\n",
       "      <td>Palm Beach County</td>\n",
       "      <td>Surfing</td>\n",
       "      <td>Fred Hennessee</td>\n",
       "      <td>M</td>\n",
       "      <td>17</td>\n",
       "      <td>Foot lacerated</td>\n",
       "      <td>N</td>\n",
       "      <td>13h30</td>\n",
       "      <td>Bull shark</td>\n",
       "      <td>H.D. Baldridge, #1549</td>\n",
       "      <td>1968.02.26-Hennessee.pdf</td>\n",
       "      <td>http://sharkattackfile.net/spreadsheets/pdf_di...</td>\n",
       "    </tr>\n",
       "    <tr>\n",
       "      <th>3403</th>\n",
       "      <td>1965.04.25</td>\n",
       "      <td>25-Apr-65</td>\n",
       "      <td>apr</td>\n",
       "      <td>1965</td>\n",
       "      <td>Invalid</td>\n",
       "      <td>united states</td>\n",
       "      <td>California</td>\n",
       "      <td>Pacifica, San Mateo County</td>\n",
       "      <td>Surfing</td>\n",
       "      <td>Michael Sammut</td>\n",
       "      <td>M</td>\n",
       "      <td>19</td>\n",
       "      <td>Drowned &amp; his body was not recovered. Sharks s...</td>\n",
       "      <td>Y</td>\n",
       "      <td>16h00</td>\n",
       "      <td>NaN</td>\n",
       "      <td>H.D. Baldridge, SAF Case #1370; R. Collier, p....</td>\n",
       "      <td>1965.04.25-Sammut.pdf</td>\n",
       "      <td>http://sharkattackfile.net/spreadsheets/pdf_di...</td>\n",
       "    </tr>\n",
       "    <tr>\n",
       "      <th>4058</th>\n",
       "      <td>1955.08.30.a</td>\n",
       "      <td>30-Aug-55</td>\n",
       "      <td>aug</td>\n",
       "      <td>1955</td>\n",
       "      <td>Provoked</td>\n",
       "      <td>united states</td>\n",
       "      <td>California</td>\n",
       "      <td>Zuma Beach, Santa Monica, Los Angeles County</td>\n",
       "      <td>Surfing</td>\n",
       "      <td>Dale Strand</td>\n",
       "      <td>M</td>\n",
       "      <td>25</td>\n",
       "      <td>Surfer grabbed shark, which turned &amp; bit him a...</td>\n",
       "      <td>N</td>\n",
       "      <td>NaN</td>\n",
       "      <td>5' thresher or blue shark. The shark  was kill...</td>\n",
       "      <td>SAF Case #244; D. Miller &amp; R. Collier, V.M. Co...</td>\n",
       "      <td>1955.08.30.a-DaleStrand.pdf</td>\n",
       "      <td>http://sharkattackfile.net/spreadsheets/pdf_di...</td>\n",
       "    </tr>\n",
       "  </tbody>\n",
       "</table>\n",
       "<p>511 rows × 19 columns</p>\n",
       "</div>"
      ],
      "text/plain": [
       "       case_number       date month  year        type        country  \\\n",
       "0     2016.09.18.c  18-Sep-16   sep  2016  Unprovoked  united states   \n",
       "1     2016.09.18.b  18-Sep-16   sep  2016  Unprovoked  united states   \n",
       "2     2016.09.18.a  18-Sep-16   sep  2016  Unprovoked  united states   \n",
       "13    2016.08.29.b  29-Aug-16   aug  2016  Unprovoked  united states   \n",
       "14    2016.08.29.a  29-Aug-16   aug  2016  Unprovoked  united states   \n",
       "...            ...        ...   ...   ...         ...            ...   \n",
       "3231    1968.09.22  22-Sep-68   sep  1968     Invalid  united states   \n",
       "3254    1968.03.10  10-Mar-68   mar  1968  Unprovoked  united states   \n",
       "3256    1968.02.26  26-Feb-68   feb  1968  Unprovoked  united states   \n",
       "3403    1965.04.25  25-Apr-65   apr  1965     Invalid  united states   \n",
       "4058  1955.08.30.a  30-Aug-55   aug  1955    Provoked  united states   \n",
       "\n",
       "            area                                      location activity  \\\n",
       "0        Florida              New Smyrna Beach, Volusia County  Surfing   \n",
       "1        Florida              New Smyrna Beach, Volusia County  Surfing   \n",
       "2        Florida              New Smyrna Beach, Volusia County  Surfing   \n",
       "13       Florida              New Smyrna Beach, Volusia County  Surfing   \n",
       "14       Florida              New Smyrna Beach, Volusia County  Surfing   \n",
       "...          ...                                           ...      ...   \n",
       "3231     Florida              Riviera Beach, Palm Beach County  Surfing   \n",
       "3254     Florida                   Jensen Beach, Martin County  Surfing   \n",
       "3256     Florida                             Palm Beach County  Surfing   \n",
       "3403  California                    Pacifica, San Mateo County  Surfing   \n",
       "4058  California  Zuma Beach, Santa Monica, Los Angeles County  Surfing   \n",
       "\n",
       "                name sex_  age  \\\n",
       "0               male    M   16   \n",
       "1     Chucky Luciano    M   36   \n",
       "2               male    M   43   \n",
       "13     Sam Cumiskey     M   25   \n",
       "14              male    M   37   \n",
       "...              ...  ...  ...   \n",
       "3231             NaN  NaN  NaN   \n",
       "3254       Jan Icyda    M   20   \n",
       "3256  Fred Hennessee    M   17   \n",
       "3403  Michael Sammut    M   19   \n",
       "4058     Dale Strand    M   25   \n",
       "\n",
       "                                                 injury fatal_(y/n)  \\\n",
       "0                                 Minor injury to thigh           N   \n",
       "1                                  Lacerations to hands           N   \n",
       "2                              Lacerations to lower leg           N   \n",
       "13                            Lacerations to right foot           N   \n",
       "14                                Minor injury to ankle           N   \n",
       "...                                                 ...         ...   \n",
       "3231                                                NaN     UNKNOWN   \n",
       "3254                                     Foot lacerated           N   \n",
       "3256                                     Foot lacerated           N   \n",
       "3403  Drowned & his body was not recovered. Sharks s...           Y   \n",
       "4058  Surfer grabbed shark, which turned & bit him a...           N   \n",
       "\n",
       "           time                                           species_  \\\n",
       "0         13h00                                                NaN   \n",
       "1         11h00                                                NaN   \n",
       "2         10h43                                                NaN   \n",
       "13        15h00                                     Bull shark, 6'   \n",
       "14        14h00                                                NaN   \n",
       "...         ...                                                ...   \n",
       "3231      12h48                    Shark involvement not confirmed   \n",
       "3254  Afternoon                                                NaN   \n",
       "3256      13h30                                         Bull shark   \n",
       "3403      16h00                                                NaN   \n",
       "4058        NaN  5' thresher or blue shark. The shark  was kill...   \n",
       "\n",
       "                                 investigator_or_source  \\\n",
       "0                           Orlando Sentinel, 9/19/2016   \n",
       "1                           Orlando Sentinel, 9/19/2016   \n",
       "2                           Orlando Sentinel, 9/19/2016   \n",
       "13                              News Channel 8, 8/30/16   \n",
       "14                              News Channel 8, 8/30/16   \n",
       "...                                                 ...   \n",
       "3231                                       M. Vorenberg   \n",
       "3254               H.D. Baldridge (1994) SAF Case #1548   \n",
       "3256                              H.D. Baldridge, #1549   \n",
       "3403  H.D. Baldridge, SAF Case #1370; R. Collier, p....   \n",
       "4058  SAF Case #244; D. Miller & R. Collier, V.M. Co...   \n",
       "\n",
       "                                 pdf  \\\n",
       "0               2016.09.18.c-NSB.pdf   \n",
       "1           2016.09.18.b-Luciano.pdf   \n",
       "2               2016.09.18.a-NSB.pdf   \n",
       "13         2016.08.29.b-Cumiskey.pdf   \n",
       "14              2016.08.29.a-NSB.pdf   \n",
       "...                              ...   \n",
       "3231  1968.09.22-NV-RivieraBeach.pdf   \n",
       "3254            1968.03.10-Icyda.pdf   \n",
       "3256        1968.02.26-Hennessee.pdf   \n",
       "3403           1965.04.25-Sammut.pdf   \n",
       "4058     1955.08.30.a-DaleStrand.pdf   \n",
       "\n",
       "                                                   href  \n",
       "0     http://sharkattackfile.net/spreadsheets/pdf_di...  \n",
       "1     http://sharkattackfile.net/spreadsheets/pdf_di...  \n",
       "2     http://sharkattackfile.net/spreadsheets/pdf_di...  \n",
       "13    http://sharkattackfile.net/spreadsheets/pdf_di...  \n",
       "14    http://sharkattackfile.net/spreadsheets/pdf_di...  \n",
       "...                                                 ...  \n",
       "3231  http://sharkattackfile.net/spreadsheets/pdf_di...  \n",
       "3254  http://sharkattackfile.net/spreadsheets/pdf_di...  \n",
       "3256  http://sharkattackfile.net/spreadsheets/pdf_di...  \n",
       "3403  http://sharkattackfile.net/spreadsheets/pdf_di...  \n",
       "4058  http://sharkattackfile.net/spreadsheets/pdf_di...  \n",
       "\n",
       "[511 rows x 19 columns]"
      ]
     },
     "execution_count": 187,
     "metadata": {},
     "output_type": "execute_result"
    }
   ],
   "source": [
    "mask = (sharks['country'] == 'united states') & (sharks['activity'] == 'Surfing')\n",
    "sharks.loc[mask, :]"
   ]
  },
  {
   "cell_type": "code",
   "execution_count": 183,
   "metadata": {},
   "outputs": [
    {
     "data": {
      "text/plain": [
       "array(['Surfing', 'Fishing', 'Wading', ..., 'Conch diver',\n",
       "       'Man fell overboard from ship. Those on board threw a rope to him with a wooden block & were pulling him to the ship',\n",
       "       'Crossing river on a raft'], dtype=object)"
      ]
     },
     "execution_count": 183,
     "metadata": {},
     "output_type": "execute_result"
    }
   ],
   "source": []
  },
  {
   "cell_type": "markdown",
   "metadata": {},
   "source": [
    "## Data Export"
   ]
  },
  {
   "cell_type": "markdown",
   "metadata": {},
   "source": [
    "## Data Analysis"
   ]
  }
 ],
 "metadata": {
  "kernelspec": {
   "display_name": "Python 3",
   "language": "python",
   "name": "python3"
  },
  "language_info": {
   "codemirror_mode": {
    "name": "ipython",
    "version": 3
   },
   "file_extension": ".py",
   "mimetype": "text/x-python",
   "name": "python",
   "nbconvert_exporter": "python",
   "pygments_lexer": "ipython3",
   "version": "3.7.4"
  },
  "toc": {
   "base_numbering": 1,
   "nav_menu": {},
   "number_sections": true,
   "sideBar": true,
   "skip_h1_title": false,
   "title_cell": "Table of Contents",
   "title_sidebar": "Contents",
   "toc_cell": false,
   "toc_position": {},
   "toc_section_display": true,
   "toc_window_display": true
  },
  "varInspector": {
   "cols": {
    "lenName": 16,
    "lenType": 16,
    "lenVar": 40
   },
   "kernels_config": {
    "python": {
     "delete_cmd_postfix": "",
     "delete_cmd_prefix": "del ",
     "library": "var_list.py",
     "varRefreshCmd": "print(var_dic_list())"
    },
    "r": {
     "delete_cmd_postfix": ") ",
     "delete_cmd_prefix": "rm(",
     "library": "var_list.r",
     "varRefreshCmd": "cat(var_dic_list()) "
    }
   },
   "types_to_exclude": [
    "module",
    "function",
    "builtin_function_or_method",
    "instance",
    "_Feature"
   ],
   "window_display": false
  }
 },
 "nbformat": 4,
 "nbformat_minor": 2
}
